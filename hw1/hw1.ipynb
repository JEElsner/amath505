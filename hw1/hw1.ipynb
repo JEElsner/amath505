{
 "cells": [
  {
   "cell_type": "markdown",
   "metadata": {},
   "source": [
    "# Homework 1\n",
    "\n",
    "Jonathan Elsner \\\n",
    "October 4th, 2024"
   ]
  },
  {
   "cell_type": "code",
   "execution_count": 1,
   "metadata": {},
   "outputs": [],
   "source": [
    "import pandas as pd\n",
    "\n",
    "import numpy as np\n",
    "from numpy.polynomial import Polynomial\n",
    "\n",
    "import matplotlib.pyplot as plt"
   ]
  },
  {
   "cell_type": "markdown",
   "metadata": {},
   "source": [
    "## Problem 1\n",
    "\n",
    "### Part 1\n",
    "\n",
    "<img src=\"./problem1-1.jpg\" width=400></img>\n",
    "\n",
    "### Part 2\n",
    "\n",
    "Using hydrostatic bounds, we can derive the water pressure as a function of height, and therefore time:\n",
    "\n",
    "$$\n",
    "\\begin{split}\n",
    "\\frac{\\partial P}{\\partial z} &= -\\rho g \\\\\n",
    "\\int_{z=h(t)}^{h_0} \\frac{\\partial P}{\\partial z} dz &= \\int_{z=h(t)}^{z=h_0} -\\rho g dz \\\\\n",
    "P &= - \\rho g |_{z=h(t)}^{z=h_0} + P_\\text{atm}\\\\\n",
    "P &= \\rho g (h(t) - h_0) + P_\\text{atm}\n",
    "\\end{split}\n",
    "$$\n",
    "\n",
    "And the potential energy at the surface is density times gravity times the height difference:\n",
    "\n",
    "$$ PE_\\text{surface} = \\rho g (h(t) - h_0) $$\n",
    "\n",
    "Calculating both, we have:"
   ]
  },
  {
   "cell_type": "code",
   "execution_count": 50,
   "metadata": {},
   "outputs": [
    {
     "name": "stdout",
     "output_type": "stream",
     "text": [
      "Pressure from water: 1.033 atmospheres\n"
     ]
    }
   ],
   "source": [
    "water_density = 997 # kg/m^3, water density\n",
    "P_atm = 101325\n",
    "g = 9.81 # gravity, m/s^2\n",
    "P = water_density * g * (0.445 - 0.104) + P_atm\n",
    "print(f'Pressure from water: {P / P_atm:0.3f} atmospheres')"
   ]
  },
  {
   "cell_type": "code",
   "execution_count": 51,
   "metadata": {},
   "outputs": [
    {
     "name": "stdout",
     "output_type": "stream",
     "text": [
      "Potential Energy at surface: 3335.17437 J/m^3\n"
     ]
    }
   ],
   "source": [
    "PE_surf = water_density * g * (0.445 - 0.104)\n",
    "print(f'Potential Energy at surface: {PE_surf} J/m^3')"
   ]
  },
  {
   "cell_type": "markdown",
   "metadata": {},
   "source": [
    "\n",
    "### Part 3\n",
    "\n",
    "Simplifying the system by setting the kinetic energy of a parcel of water at the bottom of the tube equal to the potential energy of a parcel at the top of the tube, we get the water velocity:\n",
    "\n",
    "$$\n",
    "\\begin{split}\n",
    "\\frac{1}{2} \\rho U^2 &= KE = PE_\\text{surface} \\\\\n",
    "\\frac{1}{2} \\rho U^2 &= \\rho g (h(t) - h_0) \\\\\n",
    "U^2 &= 2g (h(t) - h_0) \\\\\n",
    "U &= \\sqrt{2g(h(t) - h_0)}\n",
    "\\end{split}\n",
    "$$\n",
    "\n",
    "From here, we can get the volume transport by multiplying this quantity by the cross-sectional area of the hole: \n",
    "\n",
    "$$ V = \\pi r_h^2 \\sqrt{2g(h(t) - h_0)} $$\n",
    "\n",
    "### Part 4\n",
    "\n",
    "Taking the change in height to be the volume transport divided by the cross-sectional area of the pipe, we can derive an ODE and solve for the height of the water as a function of time:\n",
    "\n",
    "$$\n",
    "\\begin{split}\n",
    "\\frac{dh}{dt} &= \\frac{V}{A_p} \\\\\n",
    "&= \\frac{\\pi r_h^2}{\\pi r_p^2} \\sqrt{2g(h - h_0)} \\\\\n",
    "\\int \\frac{dh}{\\sqrt{h-h_0}} &= \\frac{\\sqrt{2g} r_h^2}{r_p^2} \\int dt \\\\\n",
    "2\\sqrt{h - h_0} &= \\frac{\\sqrt{2g}r_h^2}{r_p^2} t + C \\\\\n",
    "h(t) &= \\frac{gr_h^4}{2r_p^4}(t+C)^2 + h_0\n",
    "\\end{split}\n",
    "$$\n",
    "\n",
    "Taking $C = - t_f$ we get\n",
    "\n",
    "$$  h(t) = \\frac{gr_h^4}{2r_p^4}(t - t_f)^2 + h_0 $$\n",
    "\n",
    "where $t_f$ is the time at which the water reaches the hole and $h_0$ is the height of the hole.\n",
    "\n"
   ]
  },
  {
   "cell_type": "markdown",
   "metadata": {},
   "source": [
    "### Part 5\n",
    "\n",
    "First let's load the data from the lab."
   ]
  },
  {
   "cell_type": "code",
   "execution_count": 2,
   "metadata": {},
   "outputs": [
    {
     "data": {
      "text/html": [
       "<div>\n",
       "<style scoped>\n",
       "    .dataframe tbody tr th:only-of-type {\n",
       "        vertical-align: middle;\n",
       "    }\n",
       "\n",
       "    .dataframe tbody tr th {\n",
       "        vertical-align: top;\n",
       "    }\n",
       "\n",
       "    .dataframe thead th {\n",
       "        text-align: right;\n",
       "    }\n",
       "</style>\n",
       "<table border=\"1\" class=\"dataframe\">\n",
       "  <thead>\n",
       "    <tr style=\"text-align: right;\">\n",
       "      <th></th>\n",
       "      <th>height (cm)</th>\n",
       "    </tr>\n",
       "    <tr>\n",
       "      <th>time (s)</th>\n",
       "      <th></th>\n",
       "    </tr>\n",
       "  </thead>\n",
       "  <tbody>\n",
       "    <tr>\n",
       "      <th>0</th>\n",
       "      <td>44.5</td>\n",
       "    </tr>\n",
       "    <tr>\n",
       "      <th>20</th>\n",
       "      <td>43.0</td>\n",
       "    </tr>\n",
       "    <tr>\n",
       "      <th>40</th>\n",
       "      <td>42.0</td>\n",
       "    </tr>\n",
       "    <tr>\n",
       "      <th>60</th>\n",
       "      <td>40.8</td>\n",
       "    </tr>\n",
       "    <tr>\n",
       "      <th>80</th>\n",
       "      <td>39.6</td>\n",
       "    </tr>\n",
       "    <tr>\n",
       "      <th>...</th>\n",
       "      <td>...</td>\n",
       "    </tr>\n",
       "    <tr>\n",
       "      <th>1340</th>\n",
       "      <td>10.4</td>\n",
       "    </tr>\n",
       "    <tr>\n",
       "      <th>1360</th>\n",
       "      <td>10.4</td>\n",
       "    </tr>\n",
       "    <tr>\n",
       "      <th>1380</th>\n",
       "      <td>10.4</td>\n",
       "    </tr>\n",
       "    <tr>\n",
       "      <th>1400</th>\n",
       "      <td>10.4</td>\n",
       "    </tr>\n",
       "    <tr>\n",
       "      <th>1420</th>\n",
       "      <td>10.4</td>\n",
       "    </tr>\n",
       "  </tbody>\n",
       "</table>\n",
       "<p>71 rows × 1 columns</p>\n",
       "</div>"
      ],
      "text/plain": [
       "          height (cm)\n",
       "time (s)             \n",
       "0                44.5\n",
       "20               43.0\n",
       "40               42.0\n",
       "60               40.8\n",
       "80               39.6\n",
       "...               ...\n",
       "1340             10.4\n",
       "1360             10.4\n",
       "1380             10.4\n",
       "1400             10.4\n",
       "1420             10.4\n",
       "\n",
       "[71 rows x 1 columns]"
      ]
     },
     "execution_count": 2,
     "metadata": {},
     "output_type": "execute_result"
    }
   ],
   "source": [
    "data = pd.read_csv('lab1-water-spout-measurements.csv', index_col='time (s)')\n",
    "data.dropna(inplace=True)\n",
    "data"
   ]
  },
  {
   "cell_type": "markdown",
   "metadata": {},
   "source": [
    "then convert to meters, so everything is in base units."
   ]
  },
  {
   "cell_type": "code",
   "execution_count": 3,
   "metadata": {},
   "outputs": [],
   "source": [
    "data['height (m)'] = data['height (cm)'] / 100"
   ]
  },
  {
   "cell_type": "markdown",
   "metadata": {},
   "source": [
    "Now we can fit the data to a quadratic curve to match the equation we derived in the previous part."
   ]
  },
  {
   "cell_type": "code",
   "execution_count": 4,
   "metadata": {},
   "outputs": [],
   "source": [
    "poly = Polynomial.fit(data.index, data['height (m)'], deg=2).convert()"
   ]
  },
  {
   "cell_type": "code",
   "execution_count": 5,
   "metadata": {},
   "outputs": [
    {
     "data": {
      "image/png": "[encoded data removed]",
      "text/plain": [
       "<Figure size 640x480 with 1 Axes>"
      ]
     },
     "metadata": {},
     "output_type": "display_data"
    }
   ],
   "source": [
    "ax = plt.gca()\n",
    "\n",
    "x = np.arange(0, 1420, 10)\n",
    "y = poly(x)\n",
    "ax.plot(x, y, linestyle='--', color='tab:orange', label='Predicted')\n",
    "\n",
    "ax.scatter(data.index, data['height (m)'], s=10, label='Measured')\n",
    "\n",
    "ax.set_title('Height over time')\n",
    "ax.set_xlabel('Time (s)')\n",
    "ax.set_ylabel('Height (m)')\n",
    "ax.legend()\n",
    "\n",
    "plt.show()"
   ]
  },
  {
   "cell_type": "markdown",
   "metadata": {},
   "source": [
    "Looks pretty good. The fitted second degree polynomial and R-squared are below:"
   ]
  },
  {
   "cell_type": "code",
   "execution_count": 6,
   "metadata": {},
   "outputs": [
    {
     "data": {
      "text/latex": [
       "$x \\mapsto \\text{0.43692406} - \\text{0.00054667}\\,x + \\text{(2.24202701e-07)}\\,x^{2}$"
      ],
      "text/plain": [
       "Polynomial([ 4.36924060e-01, -5.46673934e-04,  2.24202701e-07], domain=[-1.,  1.], window=[-1.,  1.], symbol='x')"
      ]
     },
     "execution_count": 6,
     "metadata": {},
     "output_type": "execute_result"
    }
   ],
   "source": [
    "poly"
   ]
  },
  {
   "cell_type": "markdown",
   "metadata": {},
   "source": [
    "($x$ is time here since you can't customize variables with NumPy Polynomials)"
   ]
  },
  {
   "cell_type": "code",
   "execution_count": 7,
   "metadata": {},
   "outputs": [
    {
     "name": "stdout",
     "output_type": "stream",
     "text": [
      "R² = 0.9991633480643921\n"
     ]
    }
   ],
   "source": [
    "from sklearn.metrics import r2_score\n",
    "\n",
    "r2 = r2_score(data['height (m)'], poly(data.index))\n",
    "print(f'R² = {r2}')"
   ]
  },
  {
   "cell_type": "markdown",
   "metadata": {},
   "source": [
    "#### Predicted hole radius"
   ]
  },
  {
   "cell_type": "code",
   "execution_count": 8,
   "metadata": {},
   "outputs": [
    {
     "name": "stdout",
     "output_type": "stream",
     "text": [
      "0.00040 m\n"
     ]
    }
   ],
   "source": [
    "a = poly.coef[2] # coefficient of t^2\n",
    "\n",
    "g = 9.81 # gravity converted to cgs\n",
    "r_p = 5.5 / 100 / 2 # pipe radius\n",
    "r_h = r_p * np.power(2*a/g, 0.25)\n",
    "print(f'{r_h:0.5f} m')"
   ]
  },
  {
   "cell_type": "markdown",
   "metadata": {},
   "source": [
    "This is the predicted radius in meters. This ends up being 0.4mm. We estimated that the hole has a diameter of approximately 1mm, so this is logical."
   ]
  },
  {
   "cell_type": "markdown",
   "metadata": {},
   "source": [
    "### Part 6\n",
    "\n",
    "For the surface tension at an opening, we have\n",
    "\n",
    "$$ P_\\rho = \\frac{2 \\sigma}{r_h} $$\n",
    "\n",
    "Since the hole is small, we will assume that $\\alpha$ is close to zero. From this, we can conclude that the pressure due to surface tension at the hole is:\n"
   ]
  },
  {
   "cell_type": "code",
   "execution_count": 23,
   "metadata": {},
   "outputs": [
    {
     "name": "stdout",
     "output_type": "stream",
     "text": [
      "348.173 N/m^2\n"
     ]
    }
   ],
   "source": [
    "sigma = 0.07 # Surface tension of water at room temperature\n",
    "P_surface_tension = 2 * sigma / r_h\n",
    "print(f'{P_surface_tension:0.3f} N/m^2')"
   ]
  },
  {
   "cell_type": "markdown",
   "metadata": {},
   "source": [
    "Then the pressure at the hole is:\n",
    "\n",
    "$$ P_\\text{hydro} = P_\\text{atm} + P_\\rho $$\n",
    "\n",
    "If we want to solve for $h_f$, using hydrostatic bounds, we have:\n",
    "\n",
    "$$\\begin{split}\n",
    "\\rho g (h_f - h_0) &= \\sum P \\\\\n",
    "h_f &= \\frac{\\sum P}{\\rho g} + h_0\n",
    "\\end{split}$$"
   ]
  },
  {
   "cell_type": "markdown",
   "metadata": {},
   "source": [
    "Retrieving the predicted height of the hole from the fitted polynomial and solving for the predicted final height, we get:"
   ]
  },
  {
   "cell_type": "code",
   "execution_count": 29,
   "metadata": {},
   "outputs": [
    {
     "name": "stdout",
     "output_type": "stream",
     "text": [
      "13.928 cm\n"
     ]
    }
   ],
   "source": [
    "t_f = -poly.coef[1] / (2*poly.coef[2]) # Vertex of curve -b/2a, when water reaches the hole\n",
    "h_0 = poly(t_f) # Predicted height of the hole\n",
    "P_0 = P_atm = 101325 # atmospheric pressure in Pa\n",
    "water_density = 997 # kg/m^3, density of water\n",
    "g = 9.81 # gravity\n",
    "\n",
    "h_f = P_surface_tension / (water_density * g) + h_0\n",
    "print(f'{h_f*100:.3f} cm')"
   ]
  },
  {
   "cell_type": "markdown",
   "metadata": {},
   "source": [
    "Compared to the predicted height of the hole:"
   ]
  },
  {
   "cell_type": "code",
   "execution_count": 31,
   "metadata": {},
   "outputs": [
    {
     "name": "stdout",
     "output_type": "stream",
     "text": [
      "10.368 cm\n"
     ]
    }
   ],
   "source": [
    "print(f'{h_0*100:0.3f} cm')"
   ]
  },
  {
   "cell_type": "markdown",
   "metadata": {},
   "source": [
    "The difference is about 3.5 cm, which is the right order of magnitude but a little more than we observed in lab (about 1cm)."
   ]
  },
  {
   "cell_type": "markdown",
   "metadata": {},
   "source": [
    "## Problem 2\n",
    "\n",
    "### Parts 1 and 2\n",
    "\n",
    "<img src=\"./problem2-3and4.jpg\" width=800></image>\n",
    "\n",
    "At first we expect the pressure inside the tube to be equal to atmospheric pressure since we simply separated that volume of air from the rest of the atmosphere. Then while the candle is burning, we expect the pressure to rise ever so slightly since we are adding heat to the system. Then at the end, when the candle has burned out, we expect the pressure to drop, since the temperature has returned to room temperature, and further the water produced by the combustion reaction to precipitate out of the air in the tube, lowering the density of the air. This is what causes the water level to ultimately rise visibly."
   ]
  },
  {
   "cell_type": "markdown",
   "metadata": {},
   "source": [
    "### Part 3"
   ]
  },
  {
   "cell_type": "markdown",
   "metadata": {},
   "source": [
    "Let's calculate the final air pressure in the bottle using $P/P_0 = \\text{exp}(-zg/RT_0)$."
   ]
  },
  {
   "cell_type": "code",
   "execution_count": 3,
   "metadata": {},
   "outputs": [
    {
     "name": "stdout",
     "output_type": "stream",
     "text": [
      "101324.789 Pa\n"
     ]
    }
   ],
   "source": [
    "g = 9.81 # gravity\n",
    "R = 287 # R_specific for air\n",
    "T_0 = 295 # Room temp in kelvin\n",
    "P_0 = P_atm = 101325 # atmospheric pressure in Pa\n",
    "\n",
    "def pressure(z):\n",
    "    return P_0 * np.exp(-z / (R * T_0 / g))\n",
    "\n",
    "P = pressure(0.018) # Pressure after the water rose 1.8cm\n",
    "print(f'{P:0.3f} Pa')"
   ]
  },
  {
   "cell_type": "markdown",
   "metadata": {},
   "source": [
    "Cool, but that's really close to atmospheric pressure, so it's hard to tell. \n",
    "As a ratio of atmospheric pressure:"
   ]
  },
  {
   "cell_type": "code",
   "execution_count": 4,
   "metadata": {},
   "outputs": [
    {
     "data": {
      "text/plain": [
       "0.999997914370568"
      ]
     },
     "execution_count": 4,
     "metadata": {},
     "output_type": "execute_result"
    }
   ],
   "source": [
    "P / P_atm"
   ]
  },
  {
   "cell_type": "markdown",
   "metadata": {},
   "source": [
    "So the final pressure in the tube is 99% of atmospheric pressure. Slightly less than atmospheric, as we would expect for the water to rise.\n",
    "\n",
    "Now calculating the density using $P = \\rho R T$:"
   ]
  },
  {
   "cell_type": "code",
   "execution_count": 219,
   "metadata": {},
   "outputs": [
    {
     "name": "stdout",
     "output_type": "stream",
     "text": [
      "1.19653 kg/m^3\n"
     ]
    }
   ],
   "source": [
    "final_density = P / (R * T_0)\n",
    "print(f'{final_density:0.5f} kg/m^3')"
   ]
  },
  {
   "cell_type": "markdown",
   "metadata": {},
   "source": [
    "This is the final density of the gas inside the tube. We expect this to be slightly lower than the density of air normally, which is:"
   ]
  },
  {
   "cell_type": "code",
   "execution_count": 220,
   "metadata": {},
   "outputs": [
    {
     "data": {
      "text/plain": [
       "'1.19678 kg/m^3'"
      ]
     },
     "execution_count": 220,
     "metadata": {},
     "output_type": "execute_result"
    }
   ],
   "source": [
    "air_density = P_atm / (R * T_0)\n",
    "f'{air_density:0.5f} kg/m^3' "
   ]
  },
  {
   "cell_type": "markdown",
   "metadata": {},
   "source": [
    "As a ratio:"
   ]
  },
  {
   "cell_type": "code",
   "execution_count": 208,
   "metadata": {},
   "outputs": [
    {
     "data": {
      "text/plain": [
       "0.999791458587092"
      ]
     },
     "execution_count": 208,
     "metadata": {},
     "output_type": "execute_result"
    }
   ],
   "source": [
    "final_density / air_density"
   ]
  },
  {
   "cell_type": "markdown",
   "metadata": {},
   "source": [
    "Slightly smaller, as we expected."
   ]
  },
  {
   "cell_type": "markdown",
   "metadata": {},
   "source": [
    "### Part 4\n",
    "\n",
    "Given that density is defined as mass per unit volume, and that the rise in fluid in the bottle decreases the volume of the air inside it, we would expect the density of the air to increase, since $ \\rho = m/V $. However, this is inconsistent with our findings in the last part, where we found that the density actually slightly decreases (along with pressure).\n",
    "\n",
    "However, as mentioned in part two, the combustion reaction produces water vapor that condenses, hence the number of moles of gas decreases, and by the ideal gas law\n",
    "\n",
    "$$\\begin{split}\n",
    "P &= \\left(\\frac{m}{V}\\right)\\left(\\frac{R}{n k_0}\\right)T \\\\\n",
    "\\rho &= \\frac{nk_0P}{T}\n",
    "\\end{split}$$\n",
    "\n",
    "lowering the density of the gas inside the cylinder."
   ]
  }
 ],
 "metadata": {
  "kernelspec": {
   "display_name": "am505",
   "language": "python",
   "name": "python3"
  },
  "language_info": {
   "codemirror_mode": {
    "name": "ipython",
    "version": 3
   },
   "file_extension": ".py",
   "mimetype": "text/x-python",
   "name": "python",
   "nbconvert_exporter": "python",
   "pygments_lexer": "ipython3",
   "version": "3.12.5"
  }
 },
 "nbformat": 4,
 "nbformat_minor": 2
}
