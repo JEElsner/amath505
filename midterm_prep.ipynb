{
 "cells": [
  {
   "cell_type": "code",
   "execution_count": 4,
   "metadata": {},
   "outputs": [],
   "source": [
    "import numpy as np\n",
    "\n",
    "import matplotlib.pyplot as plt\n",
    "from matplotlib import animation"
   ]
  },
  {
   "cell_type": "code",
   "execution_count": 5,
   "metadata": {},
   "outputs": [],
   "source": [
    "import ipympl\n",
    "%matplotlib qt"
   ]
  },
  {
   "cell_type": "markdown",
   "metadata": {},
   "source": [
    "Adams-Bashforth:\n",
    "\n",
    "$$ f(t + \\Delta t) = f(t) + \\Delta t \\left( \\frac{3}{2}f_t(t) - \\frac{1}{2}f_t(t - \\Delta t)\\right) $$"
   ]
  },
  {
   "cell_type": "code",
   "execution_count": 29,
   "metadata": {},
   "outputs": [],
   "source": [
    "x = np.linspace(-0.5, 0.5, 100)\n",
    "t = np.linspace(0, 1, 5000)\n",
    "dt = t[1] - t[0]\n",
    "dx = x[1] - x[0]\n",
    "\n",
    "f = np.exp(-(x / 0.1)**2)\n",
    "f_t_prev = np.zeros_like(f)\n",
    "\n",
    "fig, ax = plt.subplots()\n",
    "\n",
    "line, = ax.plot(x, f)\n",
    "\n",
    "# ax.set_ylim((0, 1))\n",
    "\n",
    "def update(frame):\n",
    "    global f, f_t_prev, line\n",
    "    \n",
    "    # Second order periodic upwind scheme\n",
    "    f_x = np.zeros_like(f)\n",
    "\n",
    "    if np.sin(2*np.pi*frame) < 0:\n",
    "        f_x[:-2] = (3 * f[:-2] -4 * f[1:-1] + f[2:]) / (2 * dx)\n",
    "        f_x[-2] = (3 * f[-2] - 4 * f[-1] + f[0]) / (2 * dx)\n",
    "        f_x[-1] = (3 * f[-1] -4 * f[0] + f[1]) / (2 * dx)\n",
    "        f_x = -f_x # Negative because dx is now negative\n",
    "    else:\n",
    "        f_x[2:] = (3 * f[2:] - 4 * f[1:-1] + f[:-2]) / (2 * dx)\n",
    "        f_x[1] = (3 * f[1] - 4 * f[0] + f[-1]) / (2 * dx)\n",
    "        f_x[0] = (3 * f[0] - 4 * f[-1] + f[-2]) / (2 * dx)\n",
    "\n",
    "    f_t = - np.sin(2*np.pi*frame) * f_x\n",
    "\n",
    "    if frame == 0:\n",
    "        # Euler's method for first step\n",
    "        f = f + f_t * dt\n",
    "    else:\n",
    "        # Adams-Bashforth 2nd order\n",
    "        f = f + dt * (1.5 * f_t - 0.5 * f_t_prev)\n",
    "\n",
    "    f_t_prev = f_t\n",
    "\n",
    "    line.set_ydata(f)\n",
    "\n",
    "    return line,\n",
    "\n",
    "anim = animation.FuncAnimation(fig, update, frames=t, interval=1, blit=True, repeat=False)\n",
    "\n",
    "plt.show()"
   ]
  },
  {
   "cell_type": "code",
   "execution_count": null,
   "metadata": {},
   "outputs": [],
   "source": []
  }
 ],
 "metadata": {
  "kernelspec": {
   "display_name": "Python 3",
   "language": "python",
   "name": "python3"
  },
  "language_info": {
   "codemirror_mode": {
    "name": "ipython",
    "version": 3
   },
   "file_extension": ".py",
   "mimetype": "text/x-python",
   "name": "python",
   "nbconvert_exporter": "python",
   "pygments_lexer": "ipython3",
   "version": "3.12.7"
  }
 },
 "nbformat": 4,
 "nbformat_minor": 2
}
