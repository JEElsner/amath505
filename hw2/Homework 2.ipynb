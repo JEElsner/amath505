{
 "cells": [
  {
   "cell_type": "markdown",
   "metadata": {},
   "source": [
    "# Homework 2\n",
    "Jonathan Elsner \\\n",
    "AMATH 505"
   ]
  },
  {
   "cell_type": "code",
   "execution_count": 196,
   "metadata": {},
   "outputs": [],
   "source": [
    "import numpy as np\n",
    "import pandas as pd\n",
    "from matplotlib import pyplot as plt\n",
    "import pint\n",
    "import pint_pandas"
   ]
  },
  {
   "cell_type": "markdown",
   "metadata": {},
   "source": [
    "I'm using a library called [pint](https://pint.readthedocs.io/en/stable/index.html) to manage units. It's really convenient once you get it all set up."
   ]
  },
  {
   "cell_type": "code",
   "execution_count": 197,
   "metadata": {},
   "outputs": [],
   "source": [
    "units = pint_pandas.PintType.ureg\n",
    "units.setup_matplotlib()"
   ]
  },
  {
   "cell_type": "markdown",
   "metadata": {},
   "source": [
    "Let's declare some constants that we'll need in all sections."
   ]
  },
  {
   "cell_type": "code",
   "execution_count": 198,
   "metadata": {},
   "outputs": [],
   "source": [
    "water_density = 997 * units.kg / units.m**3\n",
    "g = 9.81 * units.m / units.s**2 # Gravity\n",
    "nu_water = 1e-6 * units.m**2 / units.s # Kinematic viscosity of water\n",
    "mu_water = nu_water * water_density # Dynamic viscosity of water (since kinematic viscosity = dynamic viscosity / density)\n",
    "\n",
    "R_pipe = 12 / 2 * units.mm # Pipe radius\n",
    "l_pipe = 151 * 2 * units.cm # Pipe length (estimated to be double length between pressure gauges)"
   ]
  },
  {
   "cell_type": "markdown",
   "metadata": {},
   "source": [
    "\n",
    "## Transition to turbulent flow in a pipe\n",
    "\n",
    "### Question 1\n",
    "\n",
    "Turbulent flow is characterized by much swirling of the dye, and speedy diffusion of the tracer to become evenly mixed within the water. Laminar flow is characterized by smooth, straight paths taken by the tracer, with slow diffusion, so that even far down the pipe, the tracer is identifiably separate from the rest of the water.\n",
    "\n",
    "### Question 2\n"
   ]
  },
  {
   "cell_type": "markdown",
   "metadata": {},
   "source": [
    "First let's do some munging of the data collected in lab."
   ]
  },
  {
   "cell_type": "code",
   "execution_count": 199,
   "metadata": {},
   "outputs": [],
   "source": [
    "data = pd.read_csv('./lab2-data.csv',\n",
    "                       usecols=['Volume (mL)', 'Time (s)', 'Pressure difference (mm)', 'Qualatative Analysis'],\n",
    "                       header=0,\n",
    "                    #    dtype={'Volume (mL)': 'pint[mL]', 'Time (s)': 'pint[s]', 'Pressure difference (mm)': 'pint[mm]'}\n",
    "                       )\n",
    "data.rename(columns={'Volume (mL)': 'volume', 'Time (s)': 'time', 'Pressure difference (mm)': 'height_difference'}, inplace=True)"
   ]
  },
  {
   "cell_type": "code",
   "execution_count": 200,
   "metadata": {},
   "outputs": [],
   "source": [
    "data.loc[0, 'time'] = 0 # Set 0 flow to 0 time"
   ]
  },
  {
   "cell_type": "code",
   "execution_count": 201,
   "metadata": {},
   "outputs": [
    {
     "data": {
      "text/html": [
       "<div>\n",
       "<style scoped>\n",
       "    .dataframe tbody tr th:only-of-type {\n",
       "        vertical-align: middle;\n",
       "    }\n",
       "\n",
       "    .dataframe tbody tr th {\n",
       "        vertical-align: top;\n",
       "    }\n",
       "\n",
       "    .dataframe thead th {\n",
       "        text-align: right;\n",
       "    }\n",
       "</style>\n",
       "<table border=\"1\" class=\"dataframe\">\n",
       "  <thead>\n",
       "    <tr style=\"text-align: right;\">\n",
       "      <th></th>\n",
       "      <th>volume</th>\n",
       "      <th>time</th>\n",
       "      <th>height_difference</th>\n",
       "      <th>Qualatative Analysis</th>\n",
       "    </tr>\n",
       "  </thead>\n",
       "  <tbody>\n",
       "    <tr>\n",
       "      <th>0</th>\n",
       "      <td>0</td>\n",
       "      <td>0.0</td>\n",
       "      <td>2</td>\n",
       "      <td>I mean the water isn't moving.</td>\n",
       "    </tr>\n",
       "    <tr>\n",
       "      <th>1</th>\n",
       "      <td>230</td>\n",
       "      <td>60.0</td>\n",
       "      <td>3</td>\n",
       "      <td>mostly laminar</td>\n",
       "    </tr>\n",
       "    <tr>\n",
       "      <th>2</th>\n",
       "      <td>225</td>\n",
       "      <td>30.0</td>\n",
       "      <td>5</td>\n",
       "      <td>some turbulence, diffuses quickly</td>\n",
       "    </tr>\n",
       "    <tr>\n",
       "      <th>3</th>\n",
       "      <td>400</td>\n",
       "      <td>15.0</td>\n",
       "      <td>15</td>\n",
       "      <td>much turbulence</td>\n",
       "    </tr>\n",
       "    <tr>\n",
       "      <th>4</th>\n",
       "      <td>650</td>\n",
       "      <td>15.0</td>\n",
       "      <td>20</td>\n",
       "      <td>much turbulence</td>\n",
       "    </tr>\n",
       "    <tr>\n",
       "      <th>5</th>\n",
       "      <td>700</td>\n",
       "      <td>10.0</td>\n",
       "      <td>60</td>\n",
       "      <td>much turbulence</td>\n",
       "    </tr>\n",
       "  </tbody>\n",
       "</table>\n",
       "</div>"
      ],
      "text/plain": [
       "   volume  time  height_difference               Qualatative Analysis\n",
       "0       0   0.0                  2     I mean the water isn't moving.\n",
       "1     230  60.0                  3                     mostly laminar\n",
       "2     225  30.0                  5  some turbulence, diffuses quickly\n",
       "3     400  15.0                 15                    much turbulence\n",
       "4     650  15.0                 20                    much turbulence\n",
       "5     700  10.0                 60                    much turbulence"
      ]
     },
     "execution_count": 201,
     "metadata": {},
     "output_type": "execute_result"
    }
   ],
   "source": [
    "# Add units to each column of data\n",
    "data = data.astype({'volume': 'pint[mL]', 'time': 'pint[s]', 'height_difference': 'pint[mm]'})\n",
    "data"
   ]
  },
  {
   "cell_type": "markdown",
   "metadata": {},
   "source": [
    "Now we calculate the volume transport from the volume of water measured over the amount of time it was collected."
   ]
  },
  {
   "cell_type": "code",
   "execution_count": 202,
   "metadata": {},
   "outputs": [],
   "source": [
    "data['volume_transport'] = (data['volume'] / data['time']).pint.to('mL/s')\n",
    "data.loc[0, 'volume_transport'] = 0 # set transport for 0 time\n",
    "# data['volume_transport']"
   ]
  },
  {
   "cell_type": "markdown",
   "metadata": {},
   "source": [
    "We can also calculate the mean velocity of the water through the pipe for each flow rate."
   ]
  },
  {
   "cell_type": "code",
   "execution_count": 203,
   "metadata": {},
   "outputs": [],
   "source": [
    "data['mean_vel'] = (data['volume_transport'] / (np.pi * R_pipe**2)).pint.to('mm/s')\n",
    "# data['mean_vel']"
   ]
  },
  {
   "cell_type": "markdown",
   "metadata": {},
   "source": [
    "And finally with the mean velocity we can calculate Reynold's number."
   ]
  },
  {
   "cell_type": "code",
   "execution_count": 204,
   "metadata": {},
   "outputs": [],
   "source": [
    "data['reynolds_number'] = (2 * R_pipe * data['mean_vel'] / nu_water).pint.to('dimensionless')\n",
    "# data['reynolds_number']"
   ]
  },
  {
   "cell_type": "markdown",
   "metadata": {},
   "source": [
    "Let's look at the computed data."
   ]
  },
  {
   "cell_type": "code",
   "execution_count": 205,
   "metadata": {},
   "outputs": [
    {
     "data": {
      "text/html": [
       "<div>\n",
       "<style scoped>\n",
       "    .dataframe tbody tr th:only-of-type {\n",
       "        vertical-align: middle;\n",
       "    }\n",
       "\n",
       "    .dataframe tbody tr th {\n",
       "        vertical-align: top;\n",
       "    }\n",
       "\n",
       "    .dataframe thead th {\n",
       "        text-align: right;\n",
       "    }\n",
       "</style>\n",
       "<table border=\"1\" class=\"dataframe\">\n",
       "  <thead>\n",
       "    <tr style=\"text-align: right;\">\n",
       "      <th></th>\n",
       "      <th>height_difference</th>\n",
       "      <th>volume_transport</th>\n",
       "      <th>mean_vel</th>\n",
       "      <th>reynolds_number</th>\n",
       "      <th>Qualatative Analysis</th>\n",
       "    </tr>\n",
       "  </thead>\n",
       "  <tbody>\n",
       "    <tr>\n",
       "      <th>0</th>\n",
       "      <td>2</td>\n",
       "      <td>0.0</td>\n",
       "      <td>0.0</td>\n",
       "      <td>0.0</td>\n",
       "      <td>I mean the water isn't moving.</td>\n",
       "    </tr>\n",
       "    <tr>\n",
       "      <th>1</th>\n",
       "      <td>3</td>\n",
       "      <td>3.8333333333333335</td>\n",
       "      <td>33.89410825105179</td>\n",
       "      <td>406.7292990126215</td>\n",
       "      <td>mostly laminar</td>\n",
       "    </tr>\n",
       "    <tr>\n",
       "      <th>2</th>\n",
       "      <td>5</td>\n",
       "      <td>7.5</td>\n",
       "      <td>66.31455962162305</td>\n",
       "      <td>795.7747154594765</td>\n",
       "      <td>some turbulence, diffuses quickly</td>\n",
       "    </tr>\n",
       "    <tr>\n",
       "      <th>3</th>\n",
       "      <td>15</td>\n",
       "      <td>26.666666666666668</td>\n",
       "      <td>235.785100876882</td>\n",
       "      <td>2829.4212105225843</td>\n",
       "      <td>much turbulence</td>\n",
       "    </tr>\n",
       "    <tr>\n",
       "      <th>4</th>\n",
       "      <td>20</td>\n",
       "      <td>43.333333333333336</td>\n",
       "      <td>383.15078892493324</td>\n",
       "      <td>4597.8094670991995</td>\n",
       "      <td>much turbulence</td>\n",
       "    </tr>\n",
       "    <tr>\n",
       "      <th>5</th>\n",
       "      <td>60</td>\n",
       "      <td>70.0</td>\n",
       "      <td>618.9358898018153</td>\n",
       "      <td>7427.230677621783</td>\n",
       "      <td>much turbulence</td>\n",
       "    </tr>\n",
       "  </tbody>\n",
       "</table>\n",
       "</div>"
      ],
      "text/plain": [
       "   height_difference    volume_transport            mean_vel  \\\n",
       "0                  2                 0.0                 0.0   \n",
       "1                  3  3.8333333333333335   33.89410825105179   \n",
       "2                  5                 7.5   66.31455962162305   \n",
       "3                 15  26.666666666666668    235.785100876882   \n",
       "4                 20  43.333333333333336  383.15078892493324   \n",
       "5                 60                70.0   618.9358898018153   \n",
       "\n",
       "      reynolds_number               Qualatative Analysis  \n",
       "0                 0.0     I mean the water isn't moving.  \n",
       "1   406.7292990126215                     mostly laminar  \n",
       "2   795.7747154594765  some turbulence, diffuses quickly  \n",
       "3  2829.4212105225843                    much turbulence  \n",
       "4  4597.8094670991995                    much turbulence  \n",
       "5   7427.230677621783                    much turbulence  "
      ]
     },
     "execution_count": 205,
     "metadata": {},
     "output_type": "execute_result"
    }
   ],
   "source": [
    "data[['height_difference', 'volume_transport', 'mean_vel', 'reynolds_number', 'Qualatative Analysis']]"
   ]
  },
  {
   "cell_type": "markdown",
   "metadata": {},
   "source": [
    "The flow is laminar for small Reynold's number and turbulent for large Reynold's number. I found that the flow was becoming more turbulent for a Reynold's number of 795.7 (the 2nd indexed row).\n",
    "\n",
    "### Question 3\n",
    "\n",
    "The regions that remain relatively laminar even for high Reynold's numbers were those near the walls of the pipe. In the lab, we observed that tracer injected into the stream close to the pipe flowed in smooth lines much longer than it did when injected at the center of the pipe, even for high mean fluid velocities. This makes sense, because the fluid velocity near the pipe wall is slower due to viscous forces, and we would expect locally that the Reynold's number is smaller and therefore there is less turbulence."
   ]
  },
  {
   "cell_type": "markdown",
   "metadata": {},
   "source": [
    "\n",
    "\n",
    "## Poiseuille Flow in a pipe\n",
    "\n"
   ]
  },
  {
   "cell_type": "markdown",
   "metadata": {},
   "source": [
    "### Part 1\n",
    "\n",
    "Beginning with:\n",
    "$$AP_1 - AP_2 - F_\\text{visc} = 0 $$\n",
    "\n",
    "and taking $ \\Delta P = P_1 - P_2$,\n",
    "\n",
    "$$\n",
    "\\begin{split}\n",
    "\\pi r^2 \\Delta P + \\mu \\frac{\\partial u}{\\partial r} 2 \\pi L r &= 0 \\\\\n",
    "\\mu 2 \\pi L r \\frac{\\partial u}{\\partial r} &= - \\Delta P r \\\\\n",
    "\\frac{\\partial u}{\\partial r} &= - \\frac{\\Delta P}{2 \\mu L} r \\\\\n",
    "\\int_0^s \\frac{\\partial u}{\\partial r} &= - \\frac{\\Delta P}{2 \\mu L} \\int_0^s r dr \\\\\n",
    "u(r) \\Big|_0^s &= - \\frac{\\Delta P}{4 \\mu L} r^2 \\Big|_0^s \\\\\n",
    "u(s) - u(0) &= -\\frac{\\Delta P}{4 \\mu L} s^2 \\\\\n",
    "\\end{split}\n",
    "$$\n",
    "Setting $u(R) = 0$ because velocity is zero at the pipe wall,\n",
    "$$\n",
    "\\begin{split}\n",
    "0 - u(0) &= -\\frac{\\Delta P}{4 \\mu L} R^2 \\\\\n",
    "u_c = u(0) &= \\frac{\\Delta P}{4 \\mu L} s^2\n",
    "\\end{split}\n",
    "$$\n",
    "Then solving our original derivation for $u(s)$:\n",
    "$$\n",
    "\\begin{split}\n",
    "u(s) &= \\frac{\\Delta P}{4 \\mu L} R^2 - \\frac{\\Delta P}{4 \\mu L} s^2 \\\\\n",
    "u(s) &= \\frac{\\Delta P}{4 \\mu L} (R^2 - s^2)\\quad s \\in [0, R]\\\\\n",
    "\\end{split}\n",
    "$$\n",
    "\n",
    "Using our derived function of velocity, we can integrate over the cross section of the pipe to calculate the ideal flow rate $Q$ through the pipe for different pressure differences.\n",
    "\n",
    "$$\\begin{split}\n",
    "Q &= \\int \\int u(s)\\ dA \\\\\n",
    "&= \\int_0^{2 \\pi} \\int_0^R u(r) r\\ dr\\ d\\theta \\\\\n",
    "&= \\int_0^{2 \\pi}d\\theta \\int_0^R \\frac{\\Delta P}{4 \\mu L}(R^2 - r^2) r\\ dr \\\\\n",
    "&= 2 \\pi \\frac{\\Delta P}{4 \\mu L} \\left[\\frac{R^4}{2} - \\frac{r^4}{4}\\right]_0^R \\\\\n",
    "&= \\frac{\\pi \\Delta P}{2 \\mu L} \\left(\\frac{R^4}{2} - \\frac{R^4}{4}\\right) \\\\\n",
    "Q &= \\frac{\\pi R^4}{8 \\mu L} \\Delta P\n",
    "\\end{split}$$\n",
    "\n",
    "Putting this in terms of $\\Delta P$, we get:\n",
    "\n",
    "$$ \\Delta P = \\frac{8 \\mu L Q}{\\pi R^4} $$\n",
    "\n",
    "and substituting this back into our ...\n",
    "\n",
    "<font color=red>TODO: finish this. I don't really know what's wanted for a *velocity profile* </font>\n",
    "\n"
   ]
  },
  {
   "cell_type": "markdown",
   "metadata": {},
   "source": [
    "### Part 2\n",
    "\n",
    "I expect the Poiseuille idealization to work well for small pressure differences between the ends of the pipe. This is because at low pressure differences, the water speed will be low, and therefore flow will mostly be laminar. At higher pressures (and therefore speeds), Reynold's number will be higher, indicating more turbulent flow where volume transport is lower than the theoretical maximum due to increased viscous forces."
   ]
  },
  {
   "cell_type": "markdown",
   "metadata": {},
   "source": [
    "### Part 3"
   ]
  },
  {
   "cell_type": "markdown",
   "metadata": {},
   "source": [
    "\n",
    "Now let's perform these calculations!"
   ]
  },
  {
   "cell_type": "markdown",
   "metadata": {},
   "source": [
    "Compute the change in pressure within the pipe using hydrostatic bounds and the measured difference in water head height at each gauge."
   ]
  },
  {
   "cell_type": "code",
   "execution_count": 206,
   "metadata": {},
   "outputs": [],
   "source": [
    "data['pressure_drop'] = (data['height_difference'] * water_density * g).pint.to('Pa')\n",
    "# data['pressure_drop']"
   ]
  },
  {
   "cell_type": "code",
   "execution_count": 207,
   "metadata": {},
   "outputs": [],
   "source": [
    "# Volume transport Q\n",
    "def Q(delta_P):\n",
    "    return delta_P * np.pi * R_pipe**4 / (8 * mu_water * l_pipe)"
   ]
  },
  {
   "cell_type": "code",
   "execution_count": 208,
   "metadata": {},
   "outputs": [
    {
     "data": {
      "text/html": [
       "<div>\n",
       "<style scoped>\n",
       "    .dataframe tbody tr th:only-of-type {\n",
       "        vertical-align: middle;\n",
       "    }\n",
       "\n",
       "    .dataframe tbody tr th {\n",
       "        vertical-align: top;\n",
       "    }\n",
       "\n",
       "    .dataframe thead th {\n",
       "        text-align: right;\n",
       "    }\n",
       "</style>\n",
       "<table border=\"1\" class=\"dataframe\">\n",
       "  <thead>\n",
       "    <tr style=\"text-align: right;\">\n",
       "      <th></th>\n",
       "      <th>pressure_drop</th>\n",
       "      <th>volume_transport</th>\n",
       "      <th>predicted_transport</th>\n",
       "    </tr>\n",
       "  </thead>\n",
       "  <tbody>\n",
       "    <tr>\n",
       "      <th>0</th>\n",
       "      <td>19.561139999999998</td>\n",
       "      <td>0.0</td>\n",
       "      <td>0.003306411839031769</td>\n",
       "    </tr>\n",
       "    <tr>\n",
       "      <th>1</th>\n",
       "      <td>29.341710000000003</td>\n",
       "      <td>3.8333333333333335</td>\n",
       "      <td>0.004959617758547656</td>\n",
       "    </tr>\n",
       "    <tr>\n",
       "      <th>2</th>\n",
       "      <td>48.90285000000001</td>\n",
       "      <td>7.5</td>\n",
       "      <td>0.008266029597579426</td>\n",
       "    </tr>\n",
       "    <tr>\n",
       "      <th>3</th>\n",
       "      <td>146.70855000000003</td>\n",
       "      <td>26.666666666666668</td>\n",
       "      <td>0.024798088792738277</td>\n",
       "    </tr>\n",
       "    <tr>\n",
       "      <th>4</th>\n",
       "      <td>195.61140000000003</td>\n",
       "      <td>43.333333333333336</td>\n",
       "      <td>0.033064118390317705</td>\n",
       "    </tr>\n",
       "    <tr>\n",
       "      <th>5</th>\n",
       "      <td>586.8342000000001</td>\n",
       "      <td>70.0</td>\n",
       "      <td>0.09919235517095311</td>\n",
       "    </tr>\n",
       "  </tbody>\n",
       "</table>\n",
       "</div>"
      ],
      "text/plain": [
       "        pressure_drop    volume_transport   predicted_transport\n",
       "0  19.561139999999998                 0.0  0.003306411839031769\n",
       "1  29.341710000000003  3.8333333333333335  0.004959617758547656\n",
       "2   48.90285000000001                 7.5  0.008266029597579426\n",
       "3  146.70855000000003  26.666666666666668  0.024798088792738277\n",
       "4  195.61140000000003  43.333333333333336  0.033064118390317705\n",
       "5   586.8342000000001                70.0   0.09919235517095311"
      ]
     },
     "execution_count": 208,
     "metadata": {},
     "output_type": "execute_result"
    }
   ],
   "source": [
    "data['predicted_transport'] = Q(data['pressure_drop']).pint.to('L/s')\n",
    "data[['pressure_drop', 'volume_transport', 'predicted_transport']]"
   ]
  },
  {
   "cell_type": "markdown",
   "metadata": {},
   "source": [
    "Plotting both the actual flow rate and the predicted flow rate versus pressure difference, we get:"
   ]
  },
  {
   "cell_type": "code",
   "execution_count": 209,
   "metadata": {},
   "outputs": [
    {
     "data": {
      "image/png": "[encoded data removed]",
      "text/plain": [
       "<Figure size 640x480 with 1 Axes>"
      ]
     },
     "metadata": {},
     "output_type": "display_data"
    }
   ],
   "source": [
    "fig, ax = plt.subplots()\n",
    "\n",
    "ax.scatter(data.pressure_drop, data.volume_transport, label='Actual')\n",
    "ax.scatter(data.pressure_drop, data.predicted_transport, label='Predicted')\n",
    "\n",
    "ax.set_title(\"Idealized flow under Poisseuille's Law\")\n",
    "ax.set_xlabel(f'Pressure Difference ({data.pressure_drop.pint.units:~P})')\n",
    "ax.set_ylabel(f'Volume Transport ({data.volume_transport.pint.units:~P})')\n",
    "ax.legend()\n",
    "plt.show()"
   ]
  },
  {
   "cell_type": "markdown",
   "metadata": {},
   "source": [
    "### Part 4\n",
    "\n",
    "The large discrepancy between predicted and actual flow rates at large pressure differences is expected due to turbulent flow. Turbulent flow makes the streamlines longer, subjecting the water to greater viscosity forces, slowing it down and therefore reducing transport volume. This effect is greater for higher pressure differences when Reynold's number is higher. As we see below, the Poisseuille model is a better predicter of flow rate when Reynold's number is small: lower than what is considered turbulent for water."
   ]
  },
  {
   "cell_type": "code",
   "execution_count": 217,
   "metadata": {},
   "outputs": [
    {
     "data": {
      "image/png": "[encoded data removed]",
      "text/plain": [
       "<Figure size 640x480 with 1 Axes>"
      ]
     },
     "metadata": {},
     "output_type": "display_data"
    }
   ],
   "source": [
    "ax = plt.gca()\n",
    "error = np.abs(data.predicted_transport - data.volume_transport).pint.to('mL/s')\n",
    "ax.scatter(data.reynolds_number, error)\n",
    "\n",
    "ax.vlines(4000, *ax.get_ylim(), linestyles='dashed', color='black')\n",
    "ax.text(4100, 30, 'Turbulent Flow')\n",
    "ax.text(3900, 30, 'Laminar Flow', horizontalalignment='right')\n",
    "\n",
    "ax.set_title(\"Poiseuille's Law predicts flow rate well for small Reynold's number\")\n",
    "ax.set_xlabel(\"Reynold's Number\")\n",
    "ax.set_ylabel(f\"Error ({error.pint.units:~P})\")\n",
    "\n",
    "plt.show()"
   ]
  },
  {
   "cell_type": "markdown",
   "metadata": {},
   "source": [
    "<font size=1>Don't look at the relative error; there's nothing to see there.</font>"
   ]
  },
  {
   "cell_type": "markdown",
   "metadata": {},
   "source": [
    "# Extra thing\n",
    "\n",
    "I plotted radius versus transport velocity in a pretty way."
   ]
  },
  {
   "cell_type": "code",
   "execution_count": 211,
   "metadata": {},
   "outputs": [],
   "source": [
    "# Water velocity u\n",
    "def u(r, delta_P=1*units.Pa):\n",
    "    return delta_P / (4 * mu_water * l_pipe) * (R_pipe**2 - r**2)"
   ]
  },
  {
   "cell_type": "code",
   "execution_count": 212,
   "metadata": {},
   "outputs": [
    {
     "data": {
      "image/png": "[encoded data removed]",
      "text/plain": [
       "<Figure size 640x480 with 6 Axes>"
      ]
     },
     "metadata": {},
     "output_type": "display_data"
    }
   ],
   "source": [
    "r = np.linspace(-R_pipe, R_pipe, 100)\n",
    "\n",
    "fig, axes = plt.subplots(ncols=len(data), sharey=True)\n",
    "for delta_P, ax in zip(data['pressure_drop'].pint.tolist(), axes):\n",
    "    ax.set_xlim(0, 4000)\n",
    "    ax.plot(u(r, delta_P=delta_P).to('mm/s'), r)\n",
    "    ax.set_xlabel('') # Necessary because pint adds x labels that overlap\n",
    "    ax.set_title(f'{delta_P:0.1#~P}')\n",
    "\n",
    "axes[0].set_ylabel(f'Distance From Center of Pipe ({R_pipe.units:~P})')\n",
    "fig.suptitle('Velocity profile inside pipe')\n",
    "fig.text(0.5, 0.03, 'Flow Rate (mm/s)', ha='center')\n",
    "\n",
    "\n",
    "plt.show()"
   ]
  },
  {
   "cell_type": "markdown",
   "metadata": {},
   "source": [
    "This makes a lot of sense when you think of the pipe running from left to right. The water in the middle of the pipe moves further in the same amount of time than the edges. The difference in speed between the center and walls is more pronounced for higher pressures."
   ]
  }
 ],
 "metadata": {
  "kernelspec": {
   "display_name": "am505",
   "language": "python",
   "name": "python3"
  },
  "language_info": {
   "codemirror_mode": {
    "name": "ipython",
    "version": 3
   },
   "file_extension": ".py",
   "mimetype": "text/x-python",
   "name": "python",
   "nbconvert_exporter": "python",
   "pygments_lexer": "ipython3",
   "version": "3.12.7"
  }
 },
 "nbformat": 4,
 "nbformat_minor": 2
}
