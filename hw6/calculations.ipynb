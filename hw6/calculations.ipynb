{
 "cells": [
  {
   "cell_type": "code",
   "execution_count": 11,
   "metadata": {},
   "outputs": [],
   "source": [
    "import numpy as np"
   ]
  },
  {
   "cell_type": "code",
   "execution_count": 1,
   "metadata": {},
   "outputs": [],
   "source": [
    "import pint\n",
    "\n",
    "units = pint.UnitRegistry()"
   ]
  },
  {
   "cell_type": "code",
   "execution_count": 13,
   "metadata": {},
   "outputs": [],
   "source": [
    "vol = 740 * units.ml\n",
    "delta_t = 4.4 * units.s\n",
    "nu = 10**-6 * units.m**2 / units.s\n",
    "h = 79 * units.mm\n",
    "w = 28 * units.mm\n",
    "d = 40 * units.mm\n",
    "m = 36.93 * units.g\n",
    "theta = 12.4 * units.degree\n",
    "g = 9.81 * units.m / units.s**2\n",
    "rho = 997 * units.kg / units.m**3"
   ]
  },
  {
   "cell_type": "code",
   "execution_count": 14,
   "metadata": {},
   "outputs": [],
   "source": [
    "ball_r = d / 2\n",
    "ball_vol = 4/3 * np.pi * ball_r**3\n",
    "ball_cross_section = np.pi * ball_r**2"
   ]
  },
  {
   "cell_type": "code",
   "execution_count": 3,
   "metadata": {},
   "outputs": [
    {
     "data": {
      "text/html": [
       "168.18181818181816 milliliter/second"
      ],
      "text/latex": [
       "$168.18181818181816\\ \\frac{\\mathrm{milliliter}}{\\mathrm{second}}$"
      ],
      "text/plain": [
       "<Quantity(168.181818, 'milliliter / second')>"
      ]
     },
     "execution_count": 3,
     "metadata": {},
     "output_type": "execute_result"
    }
   ],
   "source": [
    "Q = vol / delta_t\n",
    "Q"
   ]
  },
  {
   "cell_type": "code",
   "execution_count": 4,
   "metadata": {},
   "outputs": [
    {
     "data": {
      "text/html": [
       "2212 millimeter<sup>2</sup>"
      ],
      "text/latex": [
       "$2212\\ \\mathrm{millimeter}^{2}$"
      ],
      "text/plain": [
       "<Quantity(2212, 'millimeter ** 2')>"
      ]
     },
     "execution_count": 4,
     "metadata": {},
     "output_type": "execute_result"
    }
   ],
   "source": [
    "channel_area = h * w\n",
    "channel_area"
   ]
  },
  {
   "cell_type": "code",
   "execution_count": 6,
   "metadata": {},
   "outputs": [
    {
     "data": {
      "text/html": [
       "76.03156337333552 millimeter/second"
      ],
      "text/latex": [
       "$76.03156337333552\\ \\frac{\\mathrm{millimeter}}{\\mathrm{second}}$"
      ],
      "text/plain": [
       "<Quantity(76.0315634, 'millimeter / second')>"
      ]
     },
     "execution_count": 6,
     "metadata": {},
     "output_type": "execute_result"
    }
   ],
   "source": [
    "u = (Q / channel_area).to('mm/s')\n",
    "u"
   ]
  },
  {
   "cell_type": "code",
   "execution_count": 7,
   "metadata": {},
   "outputs": [
    {
     "data": {
      "text/html": [
       "47.56989247311828 millimeter"
      ],
      "text/latex": [
       "$47.56989247311828\\ \\mathrm{millimeter}$"
      ],
      "text/plain": [
       "<Quantity(47.5698925, 'millimeter')>"
      ]
     },
     "execution_count": 7,
     "metadata": {},
     "output_type": "execute_result"
    }
   ],
   "source": [
    "wetted_P = 4 * channel_area / (2 * h + w)\n",
    "wetted_P"
   ]
  },
  {
   "cell_type": "code",
   "execution_count": 9,
   "metadata": {},
   "outputs": [
    {
     "data": {
      "text/html": [
       "3616.813294232649 dimensionless"
      ],
      "text/latex": [
       "$3616.813294232649\\ \\mathrm{dimensionless}$"
      ],
      "text/plain": [
       "<Quantity(3616.81329, 'dimensionless')>"
      ]
     },
     "execution_count": 9,
     "metadata": {},
     "output_type": "execute_result"
    }
   ],
   "source": [
    "reynolds = (wetted_P * u / nu).to('dimensionless')\n",
    "reynolds"
   ]
  },
  {
   "cell_type": "code",
   "execution_count": 34,
   "metadata": {},
   "outputs": [
    {
     "data": {
      "text/html": [
       "7.592628204686716 millinewton"
      ],
      "text/latex": [
       "$7.592628204686716\\ \\mathrm{millinewton}$"
      ],
      "text/plain": [
       "<Quantity(7.5926282, 'millinewton')>"
      ]
     },
     "execution_count": 34,
     "metadata": {},
     "output_type": "execute_result"
    }
   ],
   "source": [
    "drag_F = (np.tan(theta.to('rad')) * g * (m - rho*ball_vol)).to('mN')\n",
    "drag_F"
   ]
  },
  {
   "cell_type": "code",
   "execution_count": 35,
   "metadata": {},
   "outputs": [
    {
     "data": {
      "text/html": [
       "997.0 kilogram/meter<sup>3</sup>"
      ],
      "text/latex": [
       "$997.0\\ \\frac{\\mathrm{kilogram}}{\\mathrm{meter}^{3}}$"
      ],
      "text/plain": [
       "<Quantity(997.0, 'kilogram / meter ** 3')>"
      ]
     },
     "execution_count": 35,
     "metadata": {},
     "output_type": "execute_result"
    }
   ],
   "source": [
    "rho"
   ]
  },
  {
   "cell_type": "code",
   "execution_count": 36,
   "metadata": {},
   "outputs": [
    {
     "data": {
      "text/html": [
       "76.03156337333552 millimeter/second"
      ],
      "text/latex": [
       "$76.03156337333552\\ \\frac{\\mathrm{millimeter}}{\\mathrm{second}}$"
      ],
      "text/plain": [
       "<Quantity(76.0315634, 'millimeter / second')>"
      ]
     },
     "execution_count": 36,
     "metadata": {},
     "output_type": "execute_result"
    }
   ],
   "source": [
    "u"
   ]
  },
  {
   "cell_type": "code",
   "execution_count": 37,
   "metadata": {},
   "outputs": [
    {
     "data": {
      "text/html": [
       "1256.6370614359173 millimeter<sup>2</sup>"
      ],
      "text/latex": [
       "$1256.6370614359173\\ \\mathrm{millimeter}^{2}$"
      ],
      "text/plain": [
       "<Quantity(1256.63706, 'millimeter ** 2')>"
      ]
     },
     "execution_count": 37,
     "metadata": {},
     "output_type": "execute_result"
    }
   ],
   "source": [
    "ball_cross_section"
   ]
  },
  {
   "cell_type": "code",
   "execution_count": 38,
   "metadata": {},
   "outputs": [
    {
     "data": {
      "text/html": [
       "2.096666064528251 millinewton second<sup>2</sup>/(gram meter)"
      ],
      "text/latex": [
       "$2.096666064528251\\ \\frac{\\mathrm{millinewton} \\cdot \\mathrm{second}^{2}}{\\left(\\mathrm{gram} \\cdot \\mathrm{meter}\\right)}$"
      ],
      "text/plain": [
       "<Quantity(2.09666606, 'millinewton * second ** 2 / meter / gram')>"
      ]
     },
     "execution_count": 38,
     "metadata": {},
     "output_type": "execute_result"
    }
   ],
   "source": [
    "drag_coefficient = drag_F / (0.5 * rho * u**2 * ball_cross_section).to_compact()\n",
    "drag_coefficient"
   ]
  },
  {
   "cell_type": "code",
   "execution_count": null,
   "metadata": {},
   "outputs": [],
   "source": []
  }
 ],
 "metadata": {
  "kernelspec": {
   "display_name": ".venv",
   "language": "python",
   "name": "python3"
  },
  "language_info": {
   "codemirror_mode": {
    "name": "ipython",
    "version": 3
   },
   "file_extension": ".py",
   "mimetype": "text/x-python",
   "name": "python",
   "nbconvert_exporter": "python",
   "pygments_lexer": "ipython3",
   "version": "3.12.7"
  }
 },
 "nbformat": 4,
 "nbformat_minor": 2
}
