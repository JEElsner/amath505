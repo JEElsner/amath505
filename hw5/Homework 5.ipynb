{
 "cells": [
  {
   "cell_type": "code",
   "execution_count": 43,
   "metadata": {},
   "outputs": [],
   "source": [
    "import numpy as np\n",
    "# import jax.numpy as np\n",
    "import matplotlib.pyplot as plt\n",
    "from matplotlib import animation"
   ]
  },
  {
   "cell_type": "code",
   "execution_count": 44,
   "metadata": {},
   "outputs": [],
   "source": [
    "%matplotlib qt"
   ]
  },
  {
   "cell_type": "code",
   "execution_count": 45,
   "metadata": {},
   "outputs": [],
   "source": [
    "VORTEX_CORE_RADIUS = 1"
   ]
  },
  {
   "cell_type": "code",
   "execution_count": 46,
   "metadata": {},
   "outputs": [
    {
     "data": {
      "text/plain": [
       "array([20., 45.])"
      ]
     },
     "execution_count": 46,
     "metadata": {},
     "output_type": "execute_result"
    }
   ],
   "source": [
    "# N = 5\n",
    "# locations = np.array([[10, 10], [30, 30], [50, 50], [70, 70], [90, 90]], dtype='float64').T\n",
    "# circulations = np.arange(N, dtype='float64') * 10\n",
    "N = 2\n",
    "locations = np.array([[20, 20], [45, 55]], dtype='float64').T\n",
    "circulations = np.array([-1, 1], dtype='float64')\n",
    "\n",
    "locations[0]"
   ]
  },
  {
   "cell_type": "code",
   "execution_count": 47,
   "metadata": {},
   "outputs": [],
   "source": [
    "def u_theta(r, vorticity=1):\n",
    "    C = 1\n",
    "    return np.where(r <= VORTEX_CORE_RADIUS, 0.5 * r * vorticity, np.where(r != 0, C * np.sign(vorticity) / r, 0))\n",
    "\n",
    "def velocity_from_vortex(v_x, v_y, vorticity, x, y):\n",
    "    distance = np.sqrt((x - v_x)**2 + (y - v_y)**2)\n",
    "    tangential_vel = u_theta(distance, vorticity)\n",
    "\n",
    "    angle = np.pi/2 + np.arctan2(y - v_y, x - v_x)\n",
    "    return tangential_vel * np.array([np.cos(angle), np.sin(angle)]) / np.sqrt(2)"
   ]
  },
  {
   "cell_type": "code",
   "execution_count": 48,
   "metadata": {},
   "outputs": [
    {
     "data": {
      "text/plain": [
       "array([ 7.07106781e-02, -8.65956056e-18])"
      ]
     },
     "execution_count": 48,
     "metadata": {},
     "output_type": "execute_result"
    }
   ],
   "source": [
    "velocity_from_vortex(*locations[0], circulations[0], *locations[1])"
   ]
  },
  {
   "cell_type": "code",
   "execution_count": 49,
   "metadata": {},
   "outputs": [],
   "source": [
    "X, Y = np.meshgrid(np.linspace(0, 100, 25, dtype='float64'), np.linspace(0, 100, 25, dtype='float64'))\n",
    "U = np.zeros_like(X)\n",
    "V = np.zeros_like(Y)\n",
    "\n",
    "dt = 0.1\n",
    "\n",
    "fig, ax = plt.subplots(1,1)\n",
    "Q = ax.quiver(X, Y, U, V, pivot='mid', color='gray', angles='xy', scale_units='xy', units='xy', scale=30, minshaft=5)\n",
    "pts = ax.scatter(*locations.T)\n",
    "\n",
    "ax.set_xlim(0, 100)\n",
    "ax.set_ylim(0, 100)\n",
    "\n",
    "def update_quiver(num, pts, Q):\n",
    "    \"\"\"updates the horizontal and vertical vector components by a\n",
    "    fixed increment on each frame\n",
    "    \"\"\"\n",
    "    U = np.zeros_like(X)\n",
    "    V = np.zeros_like(Y)\n",
    "    \n",
    "    for i, vortex_i in enumerate(locations):\n",
    "        for j, vortex_j in enumerate(locations):\n",
    "            if i == j:\n",
    "                continue\n",
    "\n",
    "            locations[i] += dt * velocity_from_vortex(*vortex_j, circulations[j], *vortex_i)\n",
    "\n",
    "        vel = velocity_from_vortex(*vortex_j, circulations[j], X, Y)\n",
    "        U += vel[0]\n",
    "        V += vel[1]\n",
    "\n",
    "    Q.set_UVC(U,V)\n",
    "    pts.set_offsets(locations.T)\n",
    "\n",
    "    return pts, Q,\n",
    "\n",
    "# you need to set blit=False, or the first set of arrows never gets\n",
    "# cleared on subsequent frames\n",
    "anim = animation.FuncAnimation(fig, update_quiver, fargs=(pts, Q),\n",
    "                               interval=50, blit=False, cache_frame_data=False)\n",
    "# anim.save('./anim.gif')\n",
    "fig.tight_layout()\n",
    "plt.show()"
   ]
  }
 ],
 "metadata": {
  "kernelspec": {
   "display_name": "am505",
   "language": "python",
   "name": "python3"
  },
  "language_info": {
   "codemirror_mode": {
    "name": "ipython",
    "version": 3
   },
   "file_extension": ".py",
   "mimetype": "text/x-python",
   "name": "python",
   "nbconvert_exporter": "python",
   "pygments_lexer": "ipython3",
   "version": "3.12.7"
  }
 },
 "nbformat": 4,
 "nbformat_minor": 2
}
