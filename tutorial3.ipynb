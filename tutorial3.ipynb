{
 "cells": [
  {
   "cell_type": "code",
   "execution_count": 1,
   "id": "2abd711b-1572-45d2-9e36-aeedb329d609",
   "metadata": {},
   "outputs": [],
   "source": [
    "import numpy as np\n",
    "import matplotlib.pyplot as plt\n",
    "from matplotlib import animation\n",
    "import warnings"
   ]
  },
  {
   "cell_type": "code",
   "execution_count": 2,
   "id": "10bdf5f3-2ade-425b-a9ce-145634cffbe2",
   "metadata": {},
   "outputs": [],
   "source": [
    "%matplotlib qt\n",
    "warnings.filterwarnings('ignore')"
   ]
  },
  {
   "cell_type": "code",
   "execution_count": 21,
   "id": "69915640-1daa-41fb-8c47-41171c6a66f0",
   "metadata": {
    "tags": []
   },
   "outputs": [],
   "source": [
    "N=100; # number of grid boxes\n",
    "L=1; # length of the domain\n",
    "x=np.linspace(-L/2,L/2,N);\n",
    "dx=x[1]-x[0];\n",
    "T0= 1/np.sqrt(2*np.pi)/dx*np.exp(-(x/dx)**2/2); #width of the Gaussian is dx, and its\n",
    "                                            # intergral is 1. So in the limit of dx->0 this is a delta-Function.\n",
    "T=T0;\n",
    "T_theory = T0;\n",
    "T_dirich = T0 # new!\n",
    "T_neu = T0 # new!\n",
    "D=0.01; # diffusivity coefficient\n",
    "# Courant stability requires 0.5 prefactor minimum\n",
    "dt=0.25*dx**2/D;\n",
    "total_time=2; #simulation time\n",
    "Nt=np.fix(total_time/dt); # number of timesteps\n",
    "Txx=np.zeros(len(T));\n",
    "Txx_dirich = np.zeros(len(T))\n",
    "Txx_neu = np.zeros(len(T))\n",
    "\n",
    "fig,axs = plt.subplots()\n",
    "\n",
    "line1 = axs.plot(x,T, label = 'Simulation')[0]\n",
    "line2 = axs.plot(x,T_theory, label = 'Theory')[0]\n",
    "dirichlet_line = axs.plot(x, T_dirich, label = 'Dirichlet B.C.')[0] # new!\n",
    "neu_line = axs.plot(x, T_neu, label='Neumann B.C.')[0] # new!\n",
    "plt.legend()\n",
    "\n",
    "\n",
    "def update(frame):\n",
    "    global T,Txx # make sure we can update T within the function\n",
    "    global T_dirich, Txx_dirich\n",
    "    global T_neu, Txx_neu\n",
    "\n",
    "    time=frame*dt;\n",
    "    T_theory=1/np.sqrt(4*np.pi*D*time)*np.exp(-x**2/(4*D*time));\n",
    "    #plotting\n",
    "    # calculating Txx using a simple central difference scheme, O(dx^2)\n",
    "    Txx[1:-1]=(T[2:]-2*T[1:-1] + T[:-2])/dx**2;\n",
    "\n",
    "    #periodic b.c.\n",
    "    Txx[0]=(T[1]-2*T[0] + T[-1])/dx**2;\n",
    "    Txx[-1]=(T[0]-2*T[-1] + T[-1])/dx**2;\n",
    "\n",
    "    # Dirichlet boundary conditions, new!\n",
    "    Txx_dirich[1:-1] = (T_dirich[2:] - 2*T_dirich[1:-1] + T_dirich[:-2])/dx**2\n",
    "    T_dirich[0] = 0\n",
    "    T_dirich[-1] = 0\n",
    "\n",
    "    # Neumann boundary conditions\n",
    "    Txx_neu[1:-1]=(T_neu[2:]-2*T_neu[1:-1] + T_neu[:-2])/dx**2;\n",
    "    T_neu[0] = T_neu[1]\n",
    "    T_neu[-1] = T_neu[-2]\n",
    "\n",
    "    # updating temperature (time-stepping)\n",
    "    T=T+D*Txx*dt;\n",
    "    T_dirich = T_dirich + D*Txx_dirich*dt # new!\n",
    "    T_neu = T_neu + D*Txx_neu*dt\n",
    "    line1.set_ydata(T)\n",
    "    line2.set_ydata(T_theory)\n",
    "    dirichlet_line.set_ydata(T_dirich) # new!\n",
    "    neu_line.set_ydata(T_neu)\n",
    "    axs.set_ylim(0,np.max(T)*1.1)\n",
    "    return line1,line2, dirichlet_line\n",
    "\n",
    "    \n",
    "# Create animation\n",
    "ani = animation.FuncAnimation(fig, update, frames=int(Nt), interval=1,repeat=False)\n",
    "\n",
    "# Show the animation\n",
    "plt.tight_layout()\n",
    "plt.show()\n"
   ]
  },
  {
   "cell_type": "code",
   "execution_count": null,
   "id": "a687c4a9-d90f-4604-862f-e6b109f90e9d",
   "metadata": {},
   "outputs": [],
   "source": []
  }
 ],
 "metadata": {
  "kernelspec": {
   "display_name": "am505",
   "language": "python",
   "name": "python3"
  },
  "language_info": {
   "codemirror_mode": {
    "name": "ipython",
    "version": 3
   },
   "file_extension": ".py",
   "mimetype": "text/x-python",
   "name": "python",
   "nbconvert_exporter": "python",
   "pygments_lexer": "ipython3",
   "version": "3.12.7"
  }
 },
 "nbformat": 4,
 "nbformat_minor": 5
}
