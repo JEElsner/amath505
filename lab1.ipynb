{
 "cells": [
  {
   "cell_type": "markdown",
   "metadata": {},
   "source": [
    "# Homework 1\n",
    "Jonathan Elsner \\\n",
    "October 4th, 2024"
   ]
  },
  {
   "cell_type": "code",
   "execution_count": 104,
   "metadata": {},
   "outputs": [],
   "source": [
    "import pandas as pd\n",
    "\n",
    "import numpy as np\n",
    "from numpy.polynomial import Polynomial\n",
    "\n",
    "import matplotlib.pyplot as plt"
   ]
  },
  {
   "cell_type": "markdown",
   "metadata": {},
   "source": [
    "## Problem 1"
   ]
  },
  {
   "cell_type": "code",
   "execution_count": 39,
   "metadata": {},
   "outputs": [
    {
     "data": {
      "text/html": [
       "<div>\n",
       "<style scoped>\n",
       "    .dataframe tbody tr th:only-of-type {\n",
       "        vertical-align: middle;\n",
       "    }\n",
       "\n",
       "    .dataframe tbody tr th {\n",
       "        vertical-align: top;\n",
       "    }\n",
       "\n",
       "    .dataframe thead th {\n",
       "        text-align: right;\n",
       "    }\n",
       "</style>\n",
       "<table border=\"1\" class=\"dataframe\">\n",
       "  <thead>\n",
       "    <tr style=\"text-align: right;\">\n",
       "      <th></th>\n",
       "      <th>height (cm)</th>\n",
       "    </tr>\n",
       "    <tr>\n",
       "      <th>time (s)</th>\n",
       "      <th></th>\n",
       "    </tr>\n",
       "  </thead>\n",
       "  <tbody>\n",
       "    <tr>\n",
       "      <th>0</th>\n",
       "      <td>44.5</td>\n",
       "    </tr>\n",
       "    <tr>\n",
       "      <th>20</th>\n",
       "      <td>43.0</td>\n",
       "    </tr>\n",
       "    <tr>\n",
       "      <th>40</th>\n",
       "      <td>42.0</td>\n",
       "    </tr>\n",
       "    <tr>\n",
       "      <th>60</th>\n",
       "      <td>40.8</td>\n",
       "    </tr>\n",
       "    <tr>\n",
       "      <th>80</th>\n",
       "      <td>39.6</td>\n",
       "    </tr>\n",
       "    <tr>\n",
       "      <th>...</th>\n",
       "      <td>...</td>\n",
       "    </tr>\n",
       "    <tr>\n",
       "      <th>1340</th>\n",
       "      <td>10.4</td>\n",
       "    </tr>\n",
       "    <tr>\n",
       "      <th>1360</th>\n",
       "      <td>10.4</td>\n",
       "    </tr>\n",
       "    <tr>\n",
       "      <th>1380</th>\n",
       "      <td>10.4</td>\n",
       "    </tr>\n",
       "    <tr>\n",
       "      <th>1400</th>\n",
       "      <td>10.4</td>\n",
       "    </tr>\n",
       "    <tr>\n",
       "      <th>1420</th>\n",
       "      <td>10.4</td>\n",
       "    </tr>\n",
       "  </tbody>\n",
       "</table>\n",
       "<p>71 rows × 1 columns</p>\n",
       "</div>"
      ],
      "text/plain": [
       "          height (cm)\n",
       "time (s)             \n",
       "0                44.5\n",
       "20               43.0\n",
       "40               42.0\n",
       "60               40.8\n",
       "80               39.6\n",
       "...               ...\n",
       "1340             10.4\n",
       "1360             10.4\n",
       "1380             10.4\n",
       "1400             10.4\n",
       "1420             10.4\n",
       "\n",
       "[71 rows x 1 columns]"
      ]
     },
     "execution_count": 39,
     "metadata": {},
     "output_type": "execute_result"
    }
   ],
   "source": [
    "data = pd.read_csv('lab1-water-spout-measurements.csv', index_col='time (s)')\n",
    "data.dropna(inplace=True)\n",
    "data"
   ]
  },
  {
   "cell_type": "markdown",
   "metadata": {},
   "source": [
    "### Part 5"
   ]
  },
  {
   "cell_type": "code",
   "execution_count": 184,
   "metadata": {},
   "outputs": [],
   "source": [
    "poly = Polynomial.fit(data.index, data['height (cm)'], deg=2).convert()"
   ]
  },
  {
   "cell_type": "code",
   "execution_count": 183,
   "metadata": {},
   "outputs": [
    {
     "data": {
      "image/png": "[encoded data removed]",
      "text/plain": [
       "<Figure size 640x480 with 1 Axes>"
      ]
     },
     "metadata": {},
     "output_type": "display_data"
    }
   ],
   "source": [
    "ax = plt.gca()\n",
    "\n",
    "x = np.arange(0, 1420, 10)\n",
    "y = poly(x)\n",
    "ax.plot(x, y, linestyle='--', color='tab:orange', label='Predicted')\n",
    "\n",
    "ax.scatter(data.index, data['height (cm)'], s=10, label='Measured')\n",
    "\n",
    "ax.set_title('Height over time')\n",
    "ax.set_xlabel('Time (s)')\n",
    "ax.set_ylabel('Height (cm)')\n",
    "ax.legend()\n",
    "\n",
    "plt.show()"
   ]
  },
  {
   "cell_type": "markdown",
   "metadata": {},
   "source": [
    "The fitted second degree polynomial and R-squared are below:"
   ]
  },
  {
   "cell_type": "code",
   "execution_count": 185,
   "metadata": {},
   "outputs": [
    {
     "data": {
      "text/latex": [
       "$x \\mapsto \\text{43.69240604} - \\text{0.05466739}\\,x + \\text{(2.24202701e-05)}\\,x^{2}$"
      ],
      "text/plain": [
       "Polynomial([ 4.36924060e+01, -5.46673934e-02,  2.24202701e-05], domain=[-1.,  1.], window=[-1.,  1.], symbol='x')"
      ]
     },
     "execution_count": 185,
     "metadata": {},
     "output_type": "execute_result"
    }
   ],
   "source": [
    "poly"
   ]
  },
  {
   "cell_type": "code",
   "execution_count": 182,
   "metadata": {},
   "outputs": [
    {
     "name": "stdout",
     "output_type": "stream",
     "text": [
      "R² = 0.9991633480643921\n"
     ]
    }
   ],
   "source": [
    "from sklearn.metrics import r2_score\n",
    "\n",
    "r2 = r2_score(data['height (cm)'], poly(data.index))\n",
    "print(f'R² = {r2}')"
   ]
  },
  {
   "cell_type": "markdown",
   "metadata": {},
   "source": [
    "#### Predicted hole radius"
   ]
  },
  {
   "cell_type": "code",
   "execution_count": 214,
   "metadata": {},
   "outputs": [
    {
     "name": "stdout",
     "output_type": "stream",
     "text": [
      "0.040 cm\n"
     ]
    }
   ],
   "source": [
    "a = poly.coef[2] # coefficient of t^2\n",
    "\n",
    "g = 9.81 * 100 # gravity converted to cgs\n",
    "r_p = 5.5 / 2 # pipe radius\n",
    "r_h = r_p * np.power(2*a/g, 0.25)\n",
    "print(f'{r_h:0.3f} cm')"
   ]
  },
  {
   "cell_type": "markdown",
   "metadata": {},
   "source": [
    "This is the predicted radius in centimeters. We estimated that the hole has a diameter of approximately 1mm, so this is logical."
   ]
  },
  {
   "cell_type": "markdown",
   "metadata": {},
   "source": [
    "### Part 6\n",
    "\n",
    "$ P_\\text{hydro} = P_\\text{atm} + P_\\rho $"
   ]
  },
  {
   "cell_type": "code",
   "execution_count": 223,
   "metadata": {},
   "outputs": [
    {
     "name": "stdout",
     "output_type": "stream",
     "text": [
      "3.482 N/m^2\n"
     ]
    }
   ],
   "source": [
    "sigma = 0.07 # Surface tension of water at room temperature\n",
    "alpha = 0 # angle of incidence for surface tension\n",
    "P_surface_tension = 2 * sigma * np.cos(alpha) / r_h\n",
    "print(f'{P_surface_tension:0.3f} N/m^2')"
   ]
  },
  {
   "cell_type": "markdown",
   "metadata": {},
   "source": [
    "## Problem 2"
   ]
  },
  {
   "cell_type": "markdown",
   "metadata": {},
   "source": [
    "### Part 3"
   ]
  },
  {
   "cell_type": "code",
   "execution_count": 216,
   "metadata": {},
   "outputs": [
    {
     "name": "stdout",
     "output_type": "stream",
     "text": [
      "101303.870 Pa\n"
     ]
    }
   ],
   "source": [
    "g = 9.81 # gravity\n",
    "R = 287 # R_specific for air\n",
    "T_0 = 295 # Room temp in kelvin\n",
    "P_0 = P_atm = 101325 # atmospheric pressure in Pa\n",
    "\n",
    "def pressure(z):\n",
    "    return P_0 * np.exp(-z / (R * T_0 / g))\n",
    "\n",
    "P = pressure(1.8)\n",
    "print(f'{P:0.3f} Pa')"
   ]
  },
  {
   "cell_type": "markdown",
   "metadata": {},
   "source": [
    "As a ratio of atmospheric pressure:"
   ]
  },
  {
   "cell_type": "code",
   "execution_count": 198,
   "metadata": {},
   "outputs": [
    {
     "data": {
      "text/plain": [
       "0.999791458587092"
      ]
     },
     "execution_count": 198,
     "metadata": {},
     "output_type": "execute_result"
    }
   ],
   "source": [
    "P / P_atm"
   ]
  },
  {
   "cell_type": "markdown",
   "metadata": {},
   "source": [
    "So the final pressure in the tube is 99% of atmospheric pressure."
   ]
  },
  {
   "cell_type": "code",
   "execution_count": 219,
   "metadata": {},
   "outputs": [
    {
     "name": "stdout",
     "output_type": "stream",
     "text": [
      "1.19653 kg/m^3\n"
     ]
    }
   ],
   "source": [
    "final_density = P / (R * T_0)\n",
    "print(f'{final_density:0.5f} kg/m^3')"
   ]
  },
  {
   "cell_type": "markdown",
   "metadata": {},
   "source": [
    "This is the final density of the gas inside the tube. We expect this to be slightly lower than the density of air normally, which is:"
   ]
  },
  {
   "cell_type": "code",
   "execution_count": 220,
   "metadata": {},
   "outputs": [
    {
     "data": {
      "text/plain": [
       "'1.19678 kg/m^3'"
      ]
     },
     "execution_count": 220,
     "metadata": {},
     "output_type": "execute_result"
    }
   ],
   "source": [
    "air_density = P_atm / (R * T_0)\n",
    "f'{air_density:0.5f} kg/m^3' "
   ]
  },
  {
   "cell_type": "markdown",
   "metadata": {},
   "source": [
    "As a ratio:"
   ]
  },
  {
   "cell_type": "code",
   "execution_count": 208,
   "metadata": {},
   "outputs": [
    {
     "data": {
      "text/plain": [
       "0.999791458587092"
      ]
     },
     "execution_count": 208,
     "metadata": {},
     "output_type": "execute_result"
    }
   ],
   "source": [
    "final_density / air_density"
   ]
  },
  {
   "cell_type": "markdown",
   "metadata": {},
   "source": [
    "Slightly smaller, as we expected."
   ]
  },
  {
   "cell_type": "markdown",
   "metadata": {},
   "source": [
    "### Part 4"
   ]
  }
 ],
 "metadata": {
  "kernelspec": {
   "display_name": "am505",
   "language": "python",
   "name": "python3"
  },
  "language_info": {
   "codemirror_mode": {
    "name": "ipython",
    "version": 3
   },
   "file_extension": ".py",
   "mimetype": "text/x-python",
   "name": "python",
   "nbconvert_exporter": "python",
   "pygments_lexer": "ipython3",
   "version": "3.12.5"
  }
 },
 "nbformat": 4,
 "nbformat_minor": 2
}
