{
 "cells": [
  {
   "cell_type": "code",
   "execution_count": 2,
   "id": "30acb4a8-85a5-4aac-800d-42c2317a654a",
   "metadata": {},
   "outputs": [],
   "source": [
    "import numpy as np\n",
    "import matplotlib.pyplot as plt\n",
    "import matplotlib.animation as animation\n",
    "%matplotlib qt"
   ]
  },
  {
   "cell_type": "code",
   "execution_count": 7,
   "id": "ab47eab3-bd9c-4843-9a94-388bed7bccb6",
   "metadata": {},
   "outputs": [
    {
     "name": "stdout",
     "output_type": "stream",
     "text": [
      "0.1\n"
     ]
    }
   ],
   "source": [
    "#Solving the advection equation: f_t + c f_x=0\n",
    "c=1; # advection velocity (could be negative)\n",
    "L=1.; # length of the domain\n",
    "N=200; # number of grid boxes\n",
    "dx=(L/N); \n",
    "x=np.arange(dx/2, L-dx/2, dx)\n",
    "dt=0.1*dx/abs(c); # CFL stability requires C<1 (usually we use C=1/4 or C=1/2 to\n",
    "                  # make sure we don't approach the stability boundary).\n",
    "\n",
    "print(c * dt / dx)\n",
    "\n",
    "total_time=1; #simulation time\n",
    "Nt=np.fix(total_time/dt); # number of timesteps\n",
    "\n",
    "f0=np.exp(-(x-L/2)**2/(L/30)**2); \n",
    "f=f0.copy(); # set initial conditions f(x,t=0)=f0(x);\n",
    "\n",
    "# new!\n",
    "g = f0.copy() # adams bashforth, initialize to same initial conditions\n",
    "dgdx = np.zeros(len(g)) # new!\n",
    "dgdt = np.zeros(len(g))\n",
    "dgdt_prev = np.zeros(len(g))\n",
    "\n",
    "time=0;\n",
    "dfdx=np.zeros(len(f))\n",
    "\n",
    "# plt.cla()\n",
    "\n",
    "fig, ax = plt.subplots()\n",
    "\n",
    "# plt.ylim(0, 1.5)\n",
    "line1 = plt.plot(x,f0,'k-',label='True')[0]\n",
    "line2 = plt.plot(x,f,label='Euler')[0]\n",
    "line3 = plt.plot(x,g,label='Adams-Bashforth')[0] # new!\n",
    "plt.legend()\n",
    "\n",
    "\n",
    "def update(frame):\n",
    "    global f, g, dgdx, dgdt_prev, dgdt # new!\n",
    "    global time\n",
    "    #true solution\n",
    "    x0=L/2+c*time; \n",
    "    x0=np.mod(x0,L); # figure out the distance of advection and take care of the periodicity in the x-direction\n",
    "    f0=np.exp(-(x-x0)**2/(L/30.)**2); # define the true solution by shifting the original pattern\n",
    "    #print(x0)\n",
    "    #solve the advection equation\n",
    "    dfdx[1:]=(f[1:]-f[:-1])/dx ; # upwind when c>0\n",
    "    dfdx[0]=(f[0]-f[-1])/dx;\n",
    "    f= f - c*dfdx*dt;\n",
    "\n",
    "    # new!\n",
    "    dgdx[2:] = (3*g[2:] - 4*g[1:-1] + g[:-2])/(2*dx)\n",
    "    dgdx[0] = (3*g[0] - 4*g[-1] + g[-2])/(2*dx)\n",
    "    dgdx[1] = (3*g[1] - 4*g[0] + g[-1])/(2*dx)\n",
    "    dgdt = -c * dgdx\n",
    "\n",
    "    if frame == 0:\n",
    "        g = g + dgdt * dt\n",
    "    else:\n",
    "        g = g + dt * (3/2 * dgdt - 1/2 * dgdt_prev)\n",
    "\n",
    "    dgdt_prev = dgdt\n",
    "\n",
    "    #if frame % 10 == 0:\n",
    "    line1.set_ydata(f0)\n",
    "    line2.set_ydata(f)\n",
    "    line3.set_ydata(g) # new!\n",
    "    time += dt # update the time\n",
    "    return line1,line2, line3\n",
    "\n",
    "# Create animation\n",
    "ani = animation.FuncAnimation(fig, update, frames=int(Nt), interval=1,repeat=False)\n",
    "\n",
    "# Show the animation\n",
    "plt.tight_layout()\n",
    "plt.show()\n",
    "    \n",
    "    "
   ]
  },
  {
   "cell_type": "code",
   "execution_count": null,
   "id": "8cfb0e0e-2109-412c-b1c1-8e55bfb67aed",
   "metadata": {},
   "outputs": [],
   "source": []
  },
  {
   "cell_type": "code",
   "execution_count": null,
   "id": "04b0f942",
   "metadata": {},
   "outputs": [],
   "source": []
  }
 ],
 "metadata": {
  "kernelspec": {
   "display_name": "Python 3",
   "language": "python",
   "name": "python3"
  },
  "language_info": {
   "codemirror_mode": {
    "name": "ipython",
    "version": 3
   },
   "file_extension": ".py",
   "mimetype": "text/x-python",
   "name": "python",
   "nbconvert_exporter": "python",
   "pygments_lexer": "ipython3",
   "version": "3.12.7"
  }
 },
 "nbformat": 4,
 "nbformat_minor": 5
}
