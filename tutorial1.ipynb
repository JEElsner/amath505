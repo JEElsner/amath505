{
 "cells": [
  {
   "cell_type": "code",
   "execution_count": 1,
   "id": "ded96078-37e3-4ee2-be38-baede0dc730b",
   "metadata": {},
   "outputs": [],
   "source": [
    "import numpy as np\n",
    "import matplotlib.pyplot as plt\n",
    "import matplotlib.animation as animation"
   ]
  },
  {
   "cell_type": "code",
   "execution_count": 2,
   "id": "474b6bba-8d89-4122-a048-bd2227b0ea57",
   "metadata": {},
   "outputs": [],
   "source": [
    "##needed for animation\n",
    "\n",
    "%matplotlib qt"
   ]
  },
  {
   "cell_type": "code",
   "execution_count": 3,
   "id": "e8452fd0-46ce-4ffe-96b0-8afab8bb9574",
   "metadata": {},
   "outputs": [],
   "source": [
    "# Solving x''+x=0, with initial conditions of x=1, x'=0 at t=0.\n",
    "Nt=1000 # number of time steps\n",
    "dt=0.1 # time step"
   ]
  },
  {
   "cell_type": "code",
   "execution_count": 4,
   "id": "6411de29-26a3-45da-80f5-d2a69384f8d0",
   "metadata": {},
   "outputs": [],
   "source": [
    "x=np.zeros(Nt); \n",
    "x[0]=0; # pre-allocate memory for the solution and set initialconditions that are required when solving ODEs\n",
    "y=np.zeros(Nt); \n",
    "y[0]=1;\n",
    "\n",
    "energy = np.zeros(Nt)\n",
    "energy[0] = 1\n",
    "\n",
    "fig,axs = plt.subplots(2,2,figsize=(10,10))\n",
    "\n",
    "# plt.delaxes(ax=axs[1,1]) # remove last subplot\n",
    "\n",
    "line = axs[0,0].plot(x[0],y[0],'-')[0] # plot the entire trajectory in phase space (x,y)\n",
    "point = axs[0,0].plot(x[0],y[0],'r.')[0] # show the current point in phase space \n",
    "\n",
    "axs[0,0].set(xlim=(-10,10),ylim=(-10,10),xlabel='x',ylabel='x\\'')\n",
    "\n",
    "line2 = axs[0,1].plot(0,x[0],'-')[0] # plot the solution for x(t)\n",
    "\n",
    "axs[0,1].set(xlabel='t',ylabel='x',xlim=(0,dt*Nt),ylim=(-10,10))\n",
    "\n",
    "line3 = axs[1,0].plot(0,y[0],'-')[0] # plot the solution for x'(t)\n",
    "\n",
    "axs[1,0].set(xlabel='t',ylabel='x\\'',xlim=(0,dt*Nt),ylim=(-10,10))\n",
    "\n",
    "line4 = axs[1, 1].plot(0, energy[0], '-')[0]\n",
    "axs[1,1].set(xlabel='t', ylabel='energy', xlim=(0,dt*Nt),ylim=(-10,10))\n",
    "\n",
    "\n",
    "def update(frame):\n",
    "    #plt.cla()\n",
    "    # first order Euler method\n",
    "    dxdt = y[frame]\n",
    "    dydt = -x[frame]\n",
    "    \n",
    "    # if frame < Nt - 1:\n",
    "    #     x[frame + 1] = x[frame] + dxdt * dt\n",
    "    #     y[frame + 1] = y[frame] + dydt * dt\n",
    "        \n",
    "        \n",
    "    ### Comment out the code above for the Euler's method and implement here the\n",
    "    ### second-order Adams-Bashforth's scheme\n",
    "    \n",
    "    \n",
    "    if frame == 0:   # the very first step requires using 1st-order Euler's calculation\n",
    "\n",
    "        x[frame + 1] = x[frame] + dxdt * dt\n",
    "        y[frame + 1] = y[frame] + dydt * dt\n",
    "        \n",
    "    elif frame < Nt - 1:   # all later steps use the 2nd-order scheme\n",
    "        \n",
    "        x[frame + 1] = x[frame] + dt * (1.5 * y[frame] - 0.5 * y[frame - 1])\n",
    "        y[frame + 1] = y[frame] + dt * (1.5 * -x[frame] - 0.5 * -x[frame -1])\n",
    "\n",
    "    energy[frame + 1] = x[frame]**2 + y[frame]**2\n",
    "        \n",
    "    # update each plot with current values\n",
    "    line.set_xdata(x[:frame])\n",
    "    line.set_ydata(y[:frame])\n",
    "    point.set_xdata([x[frame]])\n",
    "    point.set_ydata([y[frame]])\n",
    "    \n",
    "    line2.set_xdata(np.arange(frame)*dt)\n",
    "    line2.set_ydata(x[:frame])\n",
    "    line3.set_xdata(np.arange(frame)*dt)\n",
    "    line3.set_ydata(y[:frame])\n",
    "    \n",
    "    line4.set_xdata(np.arange(frame)*dt)\n",
    "    line4.set_ydata(energy[:frame])\n",
    "\n",
    "    return line,line2,line3, line4\n",
    "\n",
    "# Create animation\n",
    "ani = animation.FuncAnimation(fig, update, frames=Nt, interval=1)\n",
    "\n",
    "# Show the animation\n",
    "plt.tight_layout()\n",
    "plt.show()\n",
    "\n",
    "\n",
    "\n",
    "\n",
    "\n"
   ]
  },
  {
   "cell_type": "code",
   "execution_count": 30,
   "id": "ad66c632-ee01-4e9a-9f7e-1b79c7514e38",
   "metadata": {},
   "outputs": [],
   "source": [
    "#Once the simulation is finished, calculate the oscillator's energy and plot it\n",
    "#as a function of time.\n",
    "m = 1\n",
    "speed_square = np.diff(x)**2 + np.diff(y)**2\n",
    "energy = 0.5 * m * speed_square\n"
   ]
  }
 ],
 "metadata": {
  "kernelspec": {
   "display_name": "Python 3 (ipykernel)",
   "language": "python",
   "name": "python3"
  },
  "language_info": {
   "codemirror_mode": {
    "name": "ipython",
    "version": 3
   },
   "file_extension": ".py",
   "mimetype": "text/x-python",
   "name": "python",
   "nbconvert_exporter": "python",
   "pygments_lexer": "ipython3",
   "version": "3.12.5"
  }
 },
 "nbformat": 4,
 "nbformat_minor": 5
}
