{
 "cells": [
  {
   "cell_type": "code",
   "execution_count": 24,
   "id": "09c0ffe4-23a0-4004-bc2d-cf07074e9c91",
   "metadata": {},
   "outputs": [],
   "source": [
    "import numpy as np\n",
    "import matplotlib.pyplot as plt\n",
    "from matplotlib.animation import FuncAnimation\n",
    "%matplotlib qt"
   ]
  },
  {
   "cell_type": "code",
   "execution_count": 27,
   "id": "2b9749f3-3a54-4d02-a7e4-0ca9f1239d0d",
   "metadata": {},
   "outputs": [],
   "source": [
    "#solving the wave equation: f_tt=c^2*f_xx\n",
    "N=100; # number of grid boxes\n",
    "L=1; # length of the domain\n",
    "c=1; #speed of waves.\n",
    "x=np.linspace(-L/2,L/2,N); \n",
    "dx=x[1]-x[0];"
   ]
  },
  {
   "cell_type": "code",
   "execution_count": 28,
   "id": "2571d319-8fdb-4294-a3ce-41c3b07abb85",
   "metadata": {},
   "outputs": [],
   "source": [
    "# function f_initial defines the initial conditions\n",
    "\n",
    "def f_initial(x,L):\n",
    "    f0= np.exp(-(x/(L/20))**2/2)*np.cos(2*np.pi*x/(L/10)); #gaussian * cos is a localized wave\n",
    "    return f0\n",
    "\n",
    "\n",
    "f0=f_initial(x,L);\n",
    "f1=np.zeros(len(f0));\n",
    "f=f0;\n",
    "\n",
    "# Courant stability requires C<1\n",
    "dt=0.5*dx/c;\n",
    "total_time=1; #simulation time\n",
    "Nt=np.fix(total_time/dt); # number of timesteps\n",
    "f_xx=np.zeros(len(f0));\n",
    "\n",
    "\n",
    "\n",
    "f_theory = f0\n",
    "\n",
    "fig,ax = plt.subplots()\n",
    "\n",
    "line1 = ax.plot(x,f,'-k',label='Simulation')[0]\n",
    "line2 = ax.plot(x,f_theory,'-r',label='Theory')[0]\n",
    "f_prev=f\n",
    "plt.legend()\n",
    "\n",
    "#plotting\n",
    "\n",
    "def update(frame):\n",
    "    global f,f_theory,f_prev\n",
    "    time = frame*dt\n",
    "    x_shift_left=x+c*time; \n",
    "\n",
    "    x_shift_left=np.remainder(x_shift_left+L/2,L)-L/2; \n",
    "    # shifted x in the positive direction will exceed the domain and hence needs to be put back into the domain; \n",
    "    # this is for periodic boundary conditions only\n",
    "\n",
    "    x_shift_right=x-c*time; \n",
    "\n",
    "    x_shift_right=np.remainder(x_shift_right-L/2,L)-L/2;\n",
    "\n",
    "    f_theory=0.5*f_initial(x_shift_right,L) + 0.5*f_initial(x_shift_left,L);\n",
    "    #theoretical solution, works only for periodic boundary conditions (or an infinite domain)\n",
    "    \n",
    "    # calculating f_xx using a simple central difference scheme, O(dx^2)\n",
    "    f_xx[1:-1]=(f[2:]-2*f[1:-1] + f[:-2])/dx**2;\n",
    "    \n",
    "    f_xx[0] = (f[1] - 2 * f[0] + -f[0])/dx**2 #left boundary\n",
    "    f_xx[-1]= (f[-1] - 2 * f[-1] + f[-2])/dx**2; #right boundary\n",
    "    \n",
    "    if frame==0:\n",
    "        f_next=f0+f1*dt + 0.5*dt**2*c**2*f_xx;\n",
    "    else:\n",
    "        f_next=2*f- f_prev + dt**2*(c**2*f_xx);\n",
    "    f_prev=f; #save the current value to use as the previous value during the next time step\n",
    "    f=f_next; #update the current value for this timestep.\n",
    "    \n",
    "    line1.set_ydata(f)\n",
    "    line2.set_ydata(f_theory)\n",
    "    return line1,line2\n",
    "\n",
    "\n",
    "ani = FuncAnimation(fig,update,frames=int(Nt),interval=25,repeat=False)"
   ]
  },
  {
   "cell_type": "code",
   "execution_count": null,
   "id": "1b6cb2f5-a435-4739-8602-1e4cef8909e6",
   "metadata": {},
   "outputs": [],
   "source": []
  }
 ],
 "metadata": {
  "kernelspec": {
   "display_name": "am505",
   "language": "python",
   "name": "python3"
  },
  "language_info": {
   "codemirror_mode": {
    "name": "ipython",
    "version": 3
   },
   "file_extension": ".py",
   "mimetype": "text/x-python",
   "name": "python",
   "nbconvert_exporter": "python",
   "pygments_lexer": "ipython3",
   "version": "3.12.7"
  }
 },
 "nbformat": 4,
 "nbformat_minor": 5
}
