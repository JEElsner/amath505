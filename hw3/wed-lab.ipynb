{
 "cells": [
  {
   "cell_type": "code",
   "execution_count": 10,
   "metadata": {},
   "outputs": [],
   "source": [
    "import numpy as np\n",
    "import pandas as pd\n",
    "import matplotlib.pyplot as plt\n",
    "\n",
    "import pint_pandas\n",
    "\n",
    "units = pint_pandas.PintType.ureg\n",
    "units.setup_matplotlib()"
   ]
  },
  {
   "cell_type": "code",
   "execution_count": 11,
   "metadata": {},
   "outputs": [],
   "source": [
    "w = channel_width = 5.5 * units.cm\n",
    "g = 9.81 * units.m / units.s**2\n",
    "water_density = 997 * units.kg / units.m**3"
   ]
  },
  {
   "cell_type": "code",
   "execution_count": 12,
   "metadata": {},
   "outputs": [],
   "source": [
    "wed_data = pd.read_csv('./lab3_wed_data.csv', header=[0,1])\n",
    "wed_data = wed_data.pint.quantify(level=-1) # Retrieve units using pint"
   ]
  },
  {
   "cell_type": "code",
   "execution_count": 13,
   "metadata": {},
   "outputs": [],
   "source": [
    "wed_data['Q'] = wed_data['V'] / wed_data['t']\n",
    "wed_data['U_avg_1'] = (wed_data['Q'] / (wed_data['h_1'] * channel_width)).pint.to_reduced_units()\n",
    "# data['U_avg_2'] = (data['Q'] / (data['h_2'] * channel_width)).pint.to_reduced_units()\n",
    "wed_data['froude_1'] = (wed_data['U_avg_1'] / np.sqrt(g * wed_data['h_1'])).pint.to_reduced_units()\n",
    "# data['froude_2'] = (data['U_avg_2'] / np.sqrt(g * data['h_2'])).pint.to_reduced_units()"
   ]
  },
  {
   "cell_type": "code",
   "execution_count": 14,
   "metadata": {},
   "outputs": [
    {
     "data": {
      "text/html": [
       "<div>\n",
       "<style scoped>\n",
       "    .dataframe tbody tr th:only-of-type {\n",
       "        vertical-align: middle;\n",
       "    }\n",
       "\n",
       "    .dataframe tbody tr th {\n",
       "        vertical-align: top;\n",
       "    }\n",
       "\n",
       "    .dataframe thead th {\n",
       "        text-align: right;\n",
       "    }\n",
       "</style>\n",
       "<table border=\"1\" class=\"dataframe\">\n",
       "  <thead>\n",
       "    <tr style=\"text-align: right;\">\n",
       "      <th></th>\n",
       "      <th>V</th>\n",
       "      <th>t</th>\n",
       "      <th>h_1</th>\n",
       "      <th>h_2</th>\n",
       "      <th>Q</th>\n",
       "      <th>U_avg_1</th>\n",
       "      <th>froude_1</th>\n",
       "    </tr>\n",
       "  </thead>\n",
       "  <tbody>\n",
       "    <tr>\n",
       "      <th>0</th>\n",
       "      <td>500</td>\n",
       "      <td>3.8</td>\n",
       "      <td>6</td>\n",
       "      <td>16</td>\n",
       "      <td>131.57894736842107</td>\n",
       "      <td>39.872408293460936</td>\n",
       "      <td>1.6434721120065727</td>\n",
       "    </tr>\n",
       "    <tr>\n",
       "      <th>1</th>\n",
       "      <td>400</td>\n",
       "      <td>2.2</td>\n",
       "      <td>8</td>\n",
       "      <td>20</td>\n",
       "      <td>181.8181818181818</td>\n",
       "      <td>41.32231404958678</td>\n",
       "      <td>1.4750445484783725</td>\n",
       "    </tr>\n",
       "    <tr>\n",
       "      <th>2</th>\n",
       "      <td>450</td>\n",
       "      <td>2.0</td>\n",
       "      <td>8</td>\n",
       "      <td>25</td>\n",
       "      <td>225.0</td>\n",
       "      <td>51.13636363636364</td>\n",
       "      <td>1.8253676287419858</td>\n",
       "    </tr>\n",
       "    <tr>\n",
       "      <th>3</th>\n",
       "      <td>450</td>\n",
       "      <td>3.5</td>\n",
       "      <td>5</td>\n",
       "      <td>17</td>\n",
       "      <td>128.57142857142858</td>\n",
       "      <td>46.75324675324677</td>\n",
       "      <td>2.1110196201930287</td>\n",
       "    </tr>\n",
       "    <tr>\n",
       "      <th>4</th>\n",
       "      <td>460</td>\n",
       "      <td>5.4</td>\n",
       "      <td>3</td>\n",
       "      <td>14</td>\n",
       "      <td>85.18518518518518</td>\n",
       "      <td>51.6273849607183</td>\n",
       "      <td>3.0094352012722387</td>\n",
       "    </tr>\n",
       "    <tr>\n",
       "      <th>5</th>\n",
       "      <td>500</td>\n",
       "      <td>1.9</td>\n",
       "      <td>7</td>\n",
       "      <td>24</td>\n",
       "      <td>263.15789473684214</td>\n",
       "      <td>68.35269993164732</td>\n",
       "      <td>2.6083877395051385</td>\n",
       "    </tr>\n",
       "    <tr>\n",
       "      <th>6</th>\n",
       "      <td>510</td>\n",
       "      <td>2.1</td>\n",
       "      <td>9</td>\n",
       "      <td>26</td>\n",
       "      <td>242.85714285714283</td>\n",
       "      <td>49.06204906204906</td>\n",
       "      <td>1.651162908106703</td>\n",
       "    </tr>\n",
       "    <tr>\n",
       "      <th>7</th>\n",
       "      <td>480</td>\n",
       "      <td>2.3</td>\n",
       "      <td>7</td>\n",
       "      <td>20</td>\n",
       "      <td>208.69565217391306</td>\n",
       "      <td>54.20666290231509</td>\n",
       "      <td>2.068564885590162</td>\n",
       "    </tr>\n",
       "    <tr>\n",
       "      <th>8</th>\n",
       "      <td>460</td>\n",
       "      <td>2.7</td>\n",
       "      <td>6</td>\n",
       "      <td>19</td>\n",
       "      <td>170.37037037037035</td>\n",
       "      <td>51.6273849607183</td>\n",
       "      <td>2.1279920383611026</td>\n",
       "    </tr>\n",
       "    <tr>\n",
       "      <th>9</th>\n",
       "      <td>440</td>\n",
       "      <td>9.1</td>\n",
       "      <td>2</td>\n",
       "      <td>7</td>\n",
       "      <td>48.35164835164835</td>\n",
       "      <td>43.956043956043956</td>\n",
       "      <td>3.1381167536858556</td>\n",
       "    </tr>\n",
       "  </tbody>\n",
       "</table>\n",
       "</div>"
      ],
      "text/plain": [
       "     V    t  h_1  h_2                   Q             U_avg_1  \\\n",
       "0  500  3.8    6   16  131.57894736842107  39.872408293460936   \n",
       "1  400  2.2    8   20   181.8181818181818   41.32231404958678   \n",
       "2  450  2.0    8   25               225.0   51.13636363636364   \n",
       "3  450  3.5    5   17  128.57142857142858   46.75324675324677   \n",
       "4  460  5.4    3   14   85.18518518518518    51.6273849607183   \n",
       "5  500  1.9    7   24  263.15789473684214   68.35269993164732   \n",
       "6  510  2.1    9   26  242.85714285714283   49.06204906204906   \n",
       "7  480  2.3    7   20  208.69565217391306   54.20666290231509   \n",
       "8  460  2.7    6   19  170.37037037037035    51.6273849607183   \n",
       "9  440  9.1    2    7   48.35164835164835  43.956043956043956   \n",
       "\n",
       "             froude_1  \n",
       "0  1.6434721120065727  \n",
       "1  1.4750445484783725  \n",
       "2  1.8253676287419858  \n",
       "3  2.1110196201930287  \n",
       "4  3.0094352012722387  \n",
       "5  2.6083877395051385  \n",
       "6   1.651162908106703  \n",
       "7   2.068564885590162  \n",
       "8  2.1279920383611026  \n",
       "9  3.1381167536858556  "
      ]
     },
     "execution_count": 14,
     "metadata": {},
     "output_type": "execute_result"
    }
   ],
   "source": [
    "wed_data"
   ]
  },
  {
   "cell_type": "code",
   "execution_count": 15,
   "metadata": {},
   "outputs": [
    {
     "data": {
      "text/plain": [
       "V                    pint[milliliter]\n",
       "t                        pint[second]\n",
       "h_1                  pint[millimeter]\n",
       "h_2                  pint[millimeter]\n",
       "Q           pint[milliliter / second]\n",
       "U_avg_1     pint[centimeter / second]\n",
       "froude_1          pint[dimensionless]\n",
       "dtype: object"
      ]
     },
     "execution_count": 15,
     "metadata": {},
     "output_type": "execute_result"
    }
   ],
   "source": [
    "wed_data.dtypes"
   ]
  },
  {
   "cell_type": "code",
   "execution_count": 16,
   "metadata": {},
   "outputs": [],
   "source": [
    "def height_ratio(froude):\n",
    "    \"\"\"Computes the ratio of the depths of water before and after hydraulic jump for the given Froude Number\"\"\"\n",
    "    return 0.5 * (np.sqrt(1 + 8 * froude**2) - 1)"
   ]
  },
  {
   "cell_type": "code",
   "execution_count": 19,
   "metadata": {},
   "outputs": [
    {
     "data": {
      "image/png": "[encoded data removed]",
      "text/plain": [
       "<Figure size 640x480 with 1 Axes>"
      ]
     },
     "metadata": {},
     "output_type": "display_data"
    }
   ],
   "source": [
    "ax = plt.gca()\n",
    "\n",
    "ax.scatter(wed_data['h_1'].pint.to('m'), wed_data['h_2'].pint.to('m'), label='Observed')\n",
    "\n",
    "ax.scatter(wed_data['h_1'].pint.to('m'), height_ratio(wed_data['froude_1']) * wed_data['h_1'].pint.to('m'), linestyle='--', color='tab:orange', label='Predicted')\n",
    "\n",
    "ax.set_title('Hydraulic Jump by Froude Number')\n",
    "ax.set_xlabel('Height in Supercritical Flow (m)')\n",
    "ax.set_ylabel('Height After Hydraulic Jump (m)')\n",
    "ax.legend()\n",
    "\n",
    "plt.show()"
   ]
  },
  {
   "cell_type": "code",
   "execution_count": null,
   "metadata": {},
   "outputs": [],
   "source": []
  }
 ],
 "metadata": {
  "kernelspec": {
   "display_name": "am505",
   "language": "python",
   "name": "python3"
  },
  "language_info": {
   "codemirror_mode": {
    "name": "ipython",
    "version": 3
   },
   "file_extension": ".py",
   "mimetype": "text/x-python",
   "name": "python",
   "nbconvert_exporter": "python",
   "pygments_lexer": "ipython3",
   "version": "3.12.7"
  }
 },
 "nbformat": 4,
 "nbformat_minor": 2
}
